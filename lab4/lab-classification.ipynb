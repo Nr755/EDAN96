{
 "cells": [
  {
   "cell_type": "markdown",
   "metadata": {},
   "source": [
    "# Classification: Language Detection\n",
    "\n",
    "Authors: Pierre Nugues and Marcus Klang"
   ]
  },
  {
   "cell_type": "markdown",
   "metadata": {},
   "source": [
    "In this programming assignment, you will design and train a classifier to predict the language of a text. More concretely, you will reimplement Google's _Compact language detector_ (CLD3) from a high-level description. Read the description here: https://github.com/google/cld3"
   ]
  },
  {
   "cell_type": "markdown",
   "metadata": {},
   "source": [
    "## Overview"
   ]
  },
  {
   "cell_type": "markdown",
   "metadata": {},
   "source": [
    "Your classifier will read a short text, typically a few words or a sentence, and output the probability for all languages observed during training. The text will have a variable length and will be encoded as a Unicode string.\n",
    "\n",
    "As dataset to train your models, you will use [Tatoeba](https://tatoeba.org/sv/), a collaborative, open, and free collection of sentences and translations."
   ]
  },
  {
   "cell_type": "markdown",
   "metadata": {},
   "source": [
    "You will break down the task into four steps:\n",
    "    \n",
    "  1. Data processing, converting the data into a machine-learnable representation\n",
    "  2. Try and evaluate a simple model, logistic regression. This will be your baseline.\n",
    "  3. Try and evaluate a deeper model inspired by Google's compact language detector, CLD3.\n",
    "  4. CLD3 includes an embedding vectorization. This last part is left as an optional exercise."
   ]
  },
  {
   "cell_type": "markdown",
   "metadata": {},
   "source": [
    "### The Model: CLD3"
   ]
  },
  {
   "cell_type": "markdown",
   "metadata": {},
   "source": [
    "CLD3 has three major characteristics:\n",
    "\n",
    "   * It uses **$n$-grams** and splits an input text like _banana_ into three feature vectors that include:\n",
    "       + Each unique character, unigrams ($n=1$)\n",
    "       + Each unique pair of characters obtained from a sliding window of size 2, bigrams ($n=2$)\n",
    "       + Each unique triple of characters obtained from a sliding window of size 3, trigrams ($n=3$)\n",
    "       + These feature sets map to a set of indices (integer value).\n",
    "   \n",
    "   * It **hashes each symbol** i.e. it encrypts the $n$-gram into a fixed range integer.\n",
    "       + This way of mapping features to indices is called feature hashing or the *hashing trick*\n",
    "       + It reduces the number of symbols.\n",
    "       + Constant memory requirements, depends on the hash function -- commonly only a few constants.\n",
    "       + It is an approximate method as collisions can and will occur. Adjusting the size of the feature space i.e. the number of features to hash to, the collision probability can be reduced.\n",
    "   \n",
    "   * For each value of $n$, 1, 2, and 3, CLD3 computes the relative frequencies of the $n$-grams and **use them as weights**. See the figure below.\n",
    "       + The model can map the input indices to embedding vectors (this part is optional)\n",
    "       + It then computes the **weighted average** of the embeddings (this part is optional)\n",
    "       + The model learns the embeddings during training (also optional)\n",
    "       \n",
    "The figure below shows the final architecture."
   ]
  },
  {
   "cell_type": "markdown",
   "metadata": {},
   "source": [
    "![Model overview](https://raw.githubusercontent.com/google/cld3/master/model.png)\n",
    "Image source: https://github.com/google/cld3"
   ]
  },
  {
   "cell_type": "markdown",
   "metadata": {},
   "source": [
    "## Dataset: Tatoeba"
   ]
  },
  {
   "cell_type": "markdown",
   "metadata": {},
   "source": [
    "Your instructors have downsampled Tatoeba to reduce training times and guarantee that all the students have the same datasets.\n",
    "* Link to datasets: https://github.com/pnugues/edan96/tree/main/classification%20lab\n",
    "* Link to preprocessing notebook: https://github.com/pnugues/edan96/blob/main/programs/5-tatoeba_eda_select.ipynb\n",
    "\n",
    "You are only required to process the small dataset. The larger one may take take and be difficult to process on small computers."
   ]
  },
  {
   "cell_type": "markdown",
   "metadata": {},
   "source": [
    "## Preliminaries"
   ]
  },
  {
   "cell_type": "code",
   "execution_count": 1,
   "metadata": {},
   "outputs": [],
   "source": [
    "import random\n",
    "import hashlib\n",
    "from collections import Counter\n",
    "from tqdm import tqdm\n",
    "\n",
    "import torch\n",
    "from torch import nn\n",
    "from torch.utils.data import TensorDataset, DataLoader\n",
    "\n",
    "from sklearn.metrics import classification_report, confusion_matrix"
   ]
  },
  {
   "cell_type": "markdown",
   "metadata": {},
   "source": [
    "Uncomment these lines the first time run the notebook to download the dataset"
   ]
  },
  {
   "cell_type": "code",
   "execution_count": 2,
   "metadata": {},
   "outputs": [],
   "source": [
    "#!wget https://github.com/pnugues/edan96/raw/main/classification%20lab/small_dataset.zip\n",
    "#!wget https://github.com/pnugues/edan96/raw/main/classification%20lab/large_dataset.zip\n",
    "#!unzip -o small_dataset.zip\n",
    "#!unzip -o large_dataset.zip"
   ]
  },
  {
   "cell_type": "code",
   "execution_count": 3,
   "metadata": {},
   "outputs": [
    {
     "data": {
      "text/plain": [
       "<torch._C.Generator at 0x2364daaa6b0>"
      ]
     },
     "execution_count": 3,
     "metadata": {},
     "output_type": "execute_result"
    }
   ],
   "source": [
    "random.seed(4321)\n",
    "torch.manual_seed(4321)"
   ]
  },
  {
   "cell_type": "markdown",
   "metadata": {},
   "source": [
    "## Reading the Dataset"
   ]
  },
  {
   "cell_type": "code",
   "execution_count": 4,
   "metadata": {},
   "outputs": [],
   "source": [
    "FILENAME_TRAIN = 'train.tsv'\n",
    "FILENAME_VAL = 'val.tsv'\n",
    "FILENAME_TEST = 'test.tsv'"
   ]
  },
  {
   "cell_type": "code",
   "execution_count": 5,
   "metadata": {},
   "outputs": [],
   "source": [
    "SMALL_DATASET_PATH = 'small_dataset'\n",
    "LARGE_DATASET_PATH = 'large_dataset'"
   ]
  },
  {
   "cell_type": "markdown",
   "metadata": {},
   "source": [
    "## Settings\n",
    "You have here the most significant settings"
   ]
  },
  {
   "cell_type": "code",
   "execution_count": 6,
   "metadata": {},
   "outputs": [],
   "source": [
    "LARGE_DATASET = False # Use the small or large dataset\n",
    "REL_FREQ = True # How we represent the n-grams in the input vector: with their relative frequency or with a 1"
   ]
  },
  {
   "cell_type": "code",
   "execution_count": 7,
   "metadata": {},
   "outputs": [],
   "source": [
    "HIDDEN_LAYER = False  # Neural network with one hidden layer or logistic regression\n",
    "HIDDEN_DIM = 512 # Number of hidden dimensions of the neural network\n",
    "EPOCHS = 10 # Number of epochs\n",
    "BATCH_SIZE = 32 # How many examples we will use for an update in the gradient descent"
   ]
  },
  {
   "cell_type": "code",
   "execution_count": 8,
   "metadata": {},
   "outputs": [],
   "source": [
    "if LARGE_DATASET:\n",
    "    dataset_path = LARGE_DATASET_PATH\n",
    "else:\n",
    "    dataset_path = SMALL_DATASET_PATH\n",
    "    \n",
    "FILE_TRAIN = dataset_path + '/' + FILENAME_TRAIN\n",
    "FILE_VAL = dataset_path + '/' + FILENAME_VAL\n",
    "FILE_TEST = dataset_path + '/' + FILENAME_TEST"
   ]
  },
  {
   "cell_type": "markdown",
   "metadata": {},
   "source": [
    "We create a generator to read the datasets"
   ]
  },
  {
   "cell_type": "code",
   "execution_count": 9,
   "metadata": {},
   "outputs": [],
   "source": [
    "def file_reader(file):\n",
    "    with open(file, encoding='utf8', errors='ignore') as f:\n",
    "        for line in f:\n",
    "            row = line.strip()\n",
    "            yield tuple(row.split('\\t'))"
   ]
  },
  {
   "cell_type": "code",
   "execution_count": 10,
   "metadata": {},
   "outputs": [],
   "source": [
    "line_generator = file_reader(FILE_TRAIN)"
   ]
  },
  {
   "cell_type": "markdown",
   "metadata": {},
   "source": [
    "And we count the sentences per language"
   ]
  },
  {
   "cell_type": "code",
   "execution_count": 11,
   "metadata": {},
   "outputs": [],
   "source": [
    "lang_freqs = Counter(map(lambda x: x[1], line_generator))"
   ]
  },
  {
   "cell_type": "code",
   "execution_count": 12,
   "metadata": {},
   "outputs": [
    {
     "data": {
      "text/plain": [
       "[('rus', 886),\n",
       " ('mkd', 876),\n",
       " ('eng', 873),\n",
       " ('lat', 854),\n",
       " ('swc', 847),\n",
       " ('tur', 844),\n",
       " ('tlh', 843),\n",
       " ('hun', 838),\n",
       " ('vie', 832),\n",
       " ('epo', 830),\n",
       " ('jpn', 830),\n",
       " ('nld', 826),\n",
       " ('lfn', 824),\n",
       " ('deu', 821),\n",
       " ('ces', 814)]"
      ]
     },
     "execution_count": 12,
     "metadata": {},
     "output_type": "execute_result"
    }
   ],
   "source": [
    "lang_freqs.most_common(15)"
   ]
  },
  {
   "cell_type": "code",
   "execution_count": 13,
   "metadata": {},
   "outputs": [
    {
     "data": {
      "text/plain": [
       "['ara', 'ber', 'bul', 'ces', 'cmn', 'dan', 'deu', 'ell', 'eng', 'epo']"
      ]
     },
     "execution_count": 13,
     "metadata": {},
     "output_type": "execute_result"
    }
   ],
   "source": [
    "langs = sorted(list(set(lang_freqs.keys())))\n",
    "langs[:10]"
   ]
  },
  {
   "cell_type": "markdown",
   "metadata": {},
   "source": [
    "You will create an index of the languages of your dataset: Assign a number to each language. You will call it `idx2lang` and its type will be a dictionary."
   ]
  },
  {
   "cell_type": "code",
   "execution_count": 14,
   "metadata": {},
   "outputs": [],
   "source": [
    "# Write your code\n",
    "idx2lang = {i: lang for i, lang in enumerate(langs)}"
   ]
  },
  {
   "cell_type": "code",
   "execution_count": 15,
   "metadata": {},
   "outputs": [
    {
     "data": {
      "text/plain": [
       "{0: 'ara',\n",
       " 1: 'ber',\n",
       " 2: 'bul',\n",
       " 3: 'ces',\n",
       " 4: 'cmn',\n",
       " 5: 'dan',\n",
       " 6: 'deu',\n",
       " 7: 'ell',\n",
       " 8: 'eng',\n",
       " 9: 'epo',\n",
       " 10: 'fin',\n",
       " 11: 'fra',\n",
       " 12: 'hau',\n",
       " 13: 'heb',\n",
       " 14: 'hun',\n",
       " 15: 'ina',\n",
       " 16: 'ita',\n",
       " 17: 'jpn',\n",
       " 18: 'kab',\n",
       " 19: 'lat',\n",
       " 20: 'lfn',\n",
       " 21: 'lit',\n",
       " 22: 'mar',\n",
       " 23: 'mkd',\n",
       " 24: 'nld',\n",
       " 25: 'pes',\n",
       " 26: 'pol',\n",
       " 27: 'por',\n",
       " 28: 'ron',\n",
       " 29: 'rus',\n",
       " 30: 'spa',\n",
       " 31: 'srp',\n",
       " 32: 'swc',\n",
       " 33: 'swe',\n",
       " 34: 'tlh',\n",
       " 35: 'tok',\n",
       " 36: 'tur',\n",
       " 37: 'ukr',\n",
       " 38: 'vie'}"
      ]
     },
     "execution_count": 15,
     "metadata": {},
     "output_type": "execute_result"
    }
   ],
   "source": [
    "idx2lang"
   ]
  },
  {
   "cell_type": "markdown",
   "metadata": {},
   "source": [
    "Write the reverted `lang2idx` index to convert languages to indices. It is also a dictionary"
   ]
  },
  {
   "cell_type": "code",
   "execution_count": 16,
   "metadata": {},
   "outputs": [],
   "source": [
    "# Write your code\n",
    "lang2idx = {lang :i  for i, lang in enumerate(langs)}"
   ]
  },
  {
   "cell_type": "code",
   "execution_count": 17,
   "metadata": {},
   "outputs": [
    {
     "data": {
      "text/plain": [
       "{'ara': 0,\n",
       " 'ber': 1,\n",
       " 'bul': 2,\n",
       " 'ces': 3,\n",
       " 'cmn': 4,\n",
       " 'dan': 5,\n",
       " 'deu': 6,\n",
       " 'ell': 7,\n",
       " 'eng': 8,\n",
       " 'epo': 9,\n",
       " 'fin': 10,\n",
       " 'fra': 11,\n",
       " 'hau': 12,\n",
       " 'heb': 13,\n",
       " 'hun': 14,\n",
       " 'ina': 15,\n",
       " 'ita': 16,\n",
       " 'jpn': 17,\n",
       " 'kab': 18,\n",
       " 'lat': 19,\n",
       " 'lfn': 20,\n",
       " 'lit': 21,\n",
       " 'mar': 22,\n",
       " 'mkd': 23,\n",
       " 'nld': 24,\n",
       " 'pes': 25,\n",
       " 'pol': 26,\n",
       " 'por': 27,\n",
       " 'ron': 28,\n",
       " 'rus': 29,\n",
       " 'spa': 30,\n",
       " 'srp': 31,\n",
       " 'swc': 32,\n",
       " 'swe': 33,\n",
       " 'tlh': 34,\n",
       " 'tok': 35,\n",
       " 'tur': 36,\n",
       " 'ukr': 37,\n",
       " 'vie': 38}"
      ]
     },
     "execution_count": 17,
     "metadata": {},
     "output_type": "execute_result"
    }
   ],
   "source": [
    "lang2idx"
   ]
  },
  {
   "cell_type": "markdown",
   "metadata": {},
   "source": [
    "## Data processing — convert the sentences into feature vectors"
   ]
  },
  {
   "cell_type": "markdown",
   "metadata": {},
   "source": [
    "For the context of this program, a feature is a string of 1 to 3 characters. \n",
    "In natural language processing, they are called $n$-grams as they can have a varying size and are created from a sliding window.\n",
    "\n",
    "Common sizes of $n$ have names unigrams ($n$=1), bigrams ($n$=2), and trigrams ($n$=3))\n",
    "\n",
    "To serve as input, we have to convert these $n$-grams to numbers. There are two common ways to encode features into indices:\n",
    " * Mapping each symbol to an index\n",
    "    + Exact and precise\n",
    "    + Can have high memory requirements with vast feature spaces as each known feature must be stored and be assigned a unique index.\n",
    "    + Slow, you need to precompute your feature space, convert the incoming data to an index and retain the mapping in memory at all times.\n",
    " * Hashing trick: hash the feature into a index\n",
    "    + Supports an arbitrary number of features with the caveat of collisions.\n",
    "    + Constant memory requirements\n",
    "    + Fast, any feature even an unknown one can be converted into a feature index\n",
    "    + However, if the feature space is too small, features will have many collisions. You have then to choose a good hash function and a feature space that is big enough\n",
    "    \n",
    "We will use the [hashing trick](https://en.wikipedia.org/wiki/Feature_hashing). In Python, `hash` is a function that converts any supported object into a number (hash code) but it is not reproducible across the sessions - it changes each time the interpreter is started.\n",
    "We have therefore provided a new function `reproducible_hash` that hashes a string but in a reproducible way.\n",
    "\n",
    "The number returned by `reproducible_hash` is big and needs to be converted into a limited space. This can be done with the use of the remainder of an integer division, the [modulo](https://en.wikipedia.org/wiki/Modulo_operation)."
   ]
  },
  {
   "cell_type": "markdown",
   "metadata": {},
   "source": [
    "### Extracting $n$-grams"
   ]
  },
  {
   "cell_type": "markdown",
   "metadata": {},
   "source": [
    "Create an $n$-gram function that returns the $n$-grams of a string. The $n$ value will be passed as an argument. You will optionally set the string in lower case (`lc` argument)."
   ]
  },
  {
   "cell_type": "code",
   "execution_count": 26,
   "metadata": {},
   "outputs": [],
   "source": [
    "# Write your code here\n",
    "def ngrams(sentence, n=1, lc=True):\n",
    "     ngram_l = []\n",
    "     for i in range(len(sentence) - n + 1):\n",
    "            ngram_l += [sentence[i:i+n]]\n",
    "     return ngram_l"
   ]
  },
  {
   "cell_type": "code",
   "execution_count": 27,
   "metadata": {},
   "outputs": [],
   "source": [
    "def all_ngrams(sentence, max_ngram=3, lc=True):\n",
    "    all_ngram_list = []\n",
    "    for i in range(1, max_ngram + 1):\n",
    "        all_ngram_list += [ngrams(sentence, n=i, lc=lc)]\n",
    "    return all_ngram_list"
   ]
  },
  {
   "cell_type": "code",
   "execution_count": 28,
   "metadata": {},
   "outputs": [
    {
     "data": {
      "text/plain": [
       "[['b', 'a', 'n', 'a', 'n', 'a'],\n",
       " ['ba', 'an', 'na', 'an', 'na'],\n",
       " ['ban', 'ana', 'nan', 'ana']]"
      ]
     },
     "execution_count": 28,
     "metadata": {},
     "output_type": "execute_result"
    }
   ],
   "source": [
    "all_ngrams('banana')"
   ]
  },
  {
   "cell_type": "markdown",
   "metadata": {},
   "source": [
    "### Limiting the $n$-grams numbers"
   ]
  },
  {
   "cell_type": "markdown",
   "metadata": {},
   "source": [
    "We set the modulos"
   ]
  },
  {
   "cell_type": "code",
   "execution_count": 21,
   "metadata": {},
   "outputs": [],
   "source": [
    "if LARGE_DATASET:\n",
    "    MAX_CHARS = 2053\n",
    "    MAX_BIGRAMS = 4099\n",
    "    MAX_TRIGRAMS = 4099  #8192\n",
    "else:\n",
    "    MAX_CHARS = 521\n",
    "    MAX_BIGRAMS = 1031\n",
    "    MAX_TRIGRAMS = 1031 "
   ]
  },
  {
   "cell_type": "code",
   "execution_count": 22,
   "metadata": {},
   "outputs": [
    {
     "data": {
      "text/plain": [
       "2583"
      ]
     },
     "execution_count": 22,
     "metadata": {},
     "output_type": "execute_result"
    }
   ],
   "source": [
    "NUM_FEATURES = MAX_CHARS + MAX_BIGRAMS + MAX_TRIGRAMS\n",
    "NUM_FEATURES"
   ]
  },
  {
   "cell_type": "markdown",
   "metadata": {},
   "source": [
    "### Hash Codes"
   ]
  },
  {
   "cell_type": "code",
   "execution_count": 23,
   "metadata": {},
   "outputs": [],
   "source": [
    "def reproducible_hash(string):\n",
    "    \"\"\"\n",
    "    reproducible hash on any string\n",
    "\n",
    "    Arguments:\n",
    "       string: python string object\n",
    "\n",
    "    Returns:\n",
    "       signed int64\n",
    "    \"\"\"\n",
    "\n",
    "    # We are using MD5 for speed not security.\n",
    "    h = hashlib.md5(string.encode(\"utf-8\"), usedforsecurity=False)\n",
    "    return int.from_bytes(h.digest()[0:8], 'big', signed=True)"
   ]
  },
  {
   "cell_type": "code",
   "execution_count": 29,
   "metadata": {},
   "outputs": [
    {
     "data": {
      "text/plain": [
       "[487, 876, 246, 876]"
      ]
     },
     "execution_count": 29,
     "metadata": {},
     "output_type": "execute_result"
    }
   ],
   "source": [
    "[reproducible_hash(x) % MAX_TRIGRAMS for x in all_ngrams(\"banana\")[2]]"
   ]
  },
  {
   "cell_type": "code",
   "execution_count": 30,
   "metadata": {},
   "outputs": [],
   "source": [
    "MAXES = [MAX_CHARS, MAX_BIGRAMS, MAX_TRIGRAMS]"
   ]
  },
  {
   "cell_type": "markdown",
   "metadata": {},
   "source": [
    "Create a `hash_ngrams` function that creates a list of hash codes from a list of $n$-grams. As arguments, you will have the list of $n$-grams as well as the list of dividers (`MAXES`). See the example below"
   ]
  },
  {
   "cell_type": "code",
   "execution_count": 42,
   "metadata": {},
   "outputs": [],
   "source": [
    "# Write your code\n",
    "def hash_ngrams(ngrams, modulos):\n",
    "    hash_codes = []\n",
    "    for ngram, modulo in zip(ngrams,modulos):\n",
    "        hash_codes.append([reproducible_hash(x) % modulo for x in ngram])\n",
    "\n",
    "    \n",
    "    return hash_codes"
   ]
  },
  {
   "cell_type": "code",
   "execution_count": 44,
   "metadata": {},
   "outputs": [
    {
     "data": {
      "text/plain": [
       "[[25, 234, 310, 234, 310, 234],\n",
       " [994, 649, 808, 649, 808],\n",
       " [487, 876, 246, 876]]"
      ]
     },
     "execution_count": 44,
     "metadata": {},
     "output_type": "execute_result"
    }
   ],
   "source": [
    "all_ngrams('banana')\n",
    "hash_banana = hash_ngrams(all_ngrams('banana'), MAXES)\n",
    "hash_banana"
   ]
  },
  {
   "cell_type": "markdown",
   "metadata": {},
   "source": [
    "### Hash codes relative frequencies\n",
    "CLD3 associates the $n$-gram hash codes with their relative frequencies in the text. See the example in Google CLD3 page.\n",
    "\n",
    "Create a `rel_freqs` function that computes the frequencies from lists of hash codes. The input will be a list of three lists of hash codes, for the unigrams, bigrams, and trigrams. The output will be a list of a three dictionaries, where the keys will be the $n$-gram hash codes and the values, the relative frequency. See example. "
   ]
  },
  {
   "cell_type": "code",
   "execution_count": 51,
   "metadata": {},
   "outputs": [],
   "source": [
    "# Write your code\n",
    "def rel_freqs(lst):\n",
    "    c = Counter(lst)\n",
    "    total = sum(c.values())\n",
    "    rel =  {key:value/total for key,value in c.items()}\n",
    "\n",
    "    return rel"
   ]
  },
  {
   "cell_type": "code",
   "execution_count": 52,
   "metadata": {},
   "outputs": [
    {
     "data": {
      "text/plain": [
       "[{25: 0.16666666666666666, 234: 0.5, 310: 0.3333333333333333},\n",
       " {994: 0.2, 649: 0.4, 808: 0.4},\n",
       " {487: 0.25, 876: 0.5, 246: 0.25}]"
      ]
     },
     "execution_count": 52,
     "metadata": {},
     "output_type": "execute_result"
    }
   ],
   "source": [
    "freqs_banana = [rel_freqs(x) for x in hash_banana]\n",
    "freqs_banana"
   ]
  },
  {
   "cell_type": "markdown",
   "metadata": {},
   "source": [
    "## Multihot vectors"
   ]
  },
  {
   "cell_type": "markdown",
   "metadata": {},
   "source": [
    "Write a `multihot` function that creates a torch vector of 0.0 and 1.0 from a dictionary of indices and frequencies. You will pass the size of the vector as an argument. All the indices in the dictionary will be set to 1.0 and the rest will be set to 0.0"
   ]
  },
  {
   "cell_type": "code",
   "execution_count": 53,
   "metadata": {},
   "outputs": [],
   "source": [
    "# Write your code here\n",
    "def multihot(idx_freq, max):\n",
    "    feat_vector = torch.zeros(max)\n",
    "    \n",
    "    for idx in idx_freq:\n",
    "        feat_vector[idx] = 1.0\n",
    "    \n",
    "    return feat_vector"
   ]
  },
  {
   "cell_type": "code",
   "execution_count": 54,
   "metadata": {},
   "outputs": [
    {
     "data": {
      "text/plain": [
       "tensor([0., 0., 0., 0., 0., 0., 0., 0., 0., 0., 0., 0., 0., 0., 0., 0., 0., 0.,\n",
       "        0., 0., 0., 0., 0., 0., 0., 1., 0., 0., 0., 0., 0., 0., 0., 0., 0., 0.,\n",
       "        0., 0., 0., 0., 0., 0., 0., 0., 0., 0., 0., 0., 0., 0., 0., 0., 0., 0.,\n",
       "        0., 0., 0., 0., 0., 0., 0., 0., 0., 0., 0., 0., 0., 0., 0., 0., 0., 0.,\n",
       "        0., 0., 0., 0., 0., 0., 0., 0., 0., 0., 0., 0., 0., 0., 0., 0., 0., 0.,\n",
       "        0., 0., 0., 0., 0., 0., 0., 0., 0., 0., 0., 0., 0., 0., 0., 0., 0., 0.,\n",
       "        0., 0., 0., 0., 0., 0., 0., 0., 0., 0., 0., 0., 0., 0., 0., 0., 0., 0.,\n",
       "        0., 0., 0., 0., 0., 0., 0., 0., 0., 0., 0., 0., 0., 0., 0., 0., 0., 0.,\n",
       "        0., 0., 0., 0., 0., 0., 0., 0., 0., 0., 0., 0., 0., 0., 0., 0., 0., 0.,\n",
       "        0., 0., 0., 0., 0., 0., 0., 0., 0., 0., 0., 0., 0., 0., 0., 0., 0., 0.,\n",
       "        0., 0., 0., 0., 0., 0., 0., 0., 0., 0., 0., 0., 0., 0., 0., 0., 0., 0.,\n",
       "        0., 0., 0., 0., 0., 0., 0., 0., 0., 0., 0., 0., 0., 0., 0., 0., 0., 0.,\n",
       "        0., 0., 0., 0., 0., 0., 0., 0., 0., 0., 0., 0., 0., 0., 0., 0., 0., 0.,\n",
       "        1., 0., 0., 0., 0., 0., 0., 0., 0., 0., 0., 0., 0., 0., 0., 0., 0., 0.,\n",
       "        0., 0., 0., 0., 0., 0., 0., 0., 0., 0., 0., 0., 0., 0., 0., 0., 0., 0.,\n",
       "        0., 0., 0., 0., 0., 0., 0., 0., 0., 0., 0., 0., 0., 0., 0., 0., 0., 0.,\n",
       "        0., 0., 0., 0., 0., 0., 0., 0., 0., 0., 0., 0., 0., 0., 0., 0., 0., 0.,\n",
       "        0., 0., 0., 0., 1., 0., 0., 0., 0., 0., 0., 0., 0., 0., 0., 0., 0., 0.,\n",
       "        0., 0., 0., 0., 0., 0., 0., 0., 0., 0., 0., 0., 0., 0., 0., 0., 0., 0.,\n",
       "        0., 0., 0., 0., 0., 0., 0., 0., 0., 0., 0., 0., 0., 0., 0., 0., 0., 0.,\n",
       "        0., 0., 0., 0., 0., 0., 0., 0., 0., 0., 0., 0., 0., 0., 0., 0., 0., 0.,\n",
       "        0., 0., 0., 0., 0., 0., 0., 0., 0., 0., 0., 0., 0., 0., 0., 0., 0., 0.,\n",
       "        0., 0., 0., 0., 0., 0., 0., 0., 0., 0., 0., 0., 0., 0., 0., 0., 0., 0.,\n",
       "        0., 0., 0., 0., 0., 0., 0., 0., 0., 0., 0., 0., 0., 0., 0., 0., 0., 0.,\n",
       "        0., 0., 0., 0., 0., 0., 0., 0., 0., 0., 0., 0., 0., 0., 0., 0., 0., 0.,\n",
       "        0., 0., 0., 0., 0., 0., 0., 0., 0., 0., 0., 0., 0., 0., 0., 0., 0., 0.,\n",
       "        0., 0., 0., 0., 0., 0., 0., 0., 0., 0., 0., 0., 0., 0., 0., 0., 0., 0.,\n",
       "        0., 0., 0., 0., 0., 0., 0., 0., 0., 0., 0., 0., 0., 0., 0., 0., 0., 0.,\n",
       "        0., 0., 0., 0., 0., 0., 0., 0., 0., 0., 0., 0., 0., 0., 0., 0., 0.])"
      ]
     },
     "execution_count": 54,
     "metadata": {},
     "output_type": "execute_result"
    }
   ],
   "source": [
    "mhot_char_banana = multihot(freqs_banana[0], MAX_CHARS)\n",
    "mhot_char_banana"
   ]
  },
  {
   "cell_type": "code",
   "execution_count": 55,
   "metadata": {},
   "outputs": [
    {
     "data": {
      "text/plain": [
       "tensor([[ 25],\n",
       "        [234],\n",
       "        [310]])"
      ]
     },
     "execution_count": 55,
     "metadata": {},
     "output_type": "execute_result"
    }
   ],
   "source": [
    "torch.nonzero(mhot_char_banana)"
   ]
  },
  {
   "cell_type": "code",
   "execution_count": 56,
   "metadata": {},
   "outputs": [
    {
     "data": {
      "text/plain": [
       "tensor([0., 0., 0.,  ..., 0., 0., 0.])"
      ]
     },
     "execution_count": 56,
     "metadata": {},
     "output_type": "execute_result"
    }
   ],
   "source": [
    "mhot_bigram_banana = multihot(freqs_banana[1], MAX_BIGRAMS)\n",
    "mhot_bigram_banana"
   ]
  },
  {
   "cell_type": "code",
   "execution_count": 57,
   "metadata": {},
   "outputs": [
    {
     "data": {
      "text/plain": [
       "tensor([[649],\n",
       "        [808],\n",
       "        [994]])"
      ]
     },
     "execution_count": 57,
     "metadata": {},
     "output_type": "execute_result"
    }
   ],
   "source": [
    "torch.nonzero(mhot_bigram_banana)"
   ]
  },
  {
   "cell_type": "code",
   "execution_count": 58,
   "metadata": {},
   "outputs": [
    {
     "data": {
      "text/plain": [
       "tensor([0., 0., 0.,  ..., 0., 0., 0.])"
      ]
     },
     "execution_count": 58,
     "metadata": {},
     "output_type": "execute_result"
    }
   ],
   "source": [
    "mhot_trigram_banana = multihot(freqs_banana[2], MAX_TRIGRAMS)\n",
    "mhot_trigram_banana"
   ]
  },
  {
   "cell_type": "code",
   "execution_count": 59,
   "metadata": {},
   "outputs": [
    {
     "data": {
      "text/plain": [
       "tensor([[246],\n",
       "        [487],\n",
       "        [876]])"
      ]
     },
     "execution_count": 59,
     "metadata": {},
     "output_type": "execute_result"
    }
   ],
   "source": [
    "torch.nonzero(mhot_trigram_banana)"
   ]
  },
  {
   "cell_type": "markdown",
   "metadata": {},
   "source": [
    "## Replacing Booleans with frequencies"
   ]
  },
  {
   "cell_type": "markdown",
   "metadata": {},
   "source": [
    "Write a `multihot_freq` function that creates a torch vector of frequencies from a dictionary of indices and frequencies. You will pass the size of the vector as an argument. All the indices in the dictionary will be set to the dictionary values (the relative frequencies) and the rest will be set to 0.0"
   ]
  },
  {
   "cell_type": "code",
   "execution_count": 60,
   "metadata": {},
   "outputs": [],
   "source": [
    "# Write your code\n",
    "def multihot_freq(idx_freq, max):\n",
    "    feat_vector = torch.zeros(max)\n",
    "    for idx,freq in idx_freq.items():\n",
    "        feat_vector[idx] = freq\n",
    "    return feat_vector"
   ]
  },
  {
   "cell_type": "code",
   "execution_count": 61,
   "metadata": {},
   "outputs": [
    {
     "data": {
      "text/plain": [
       "tensor([0.0000, 0.0000, 0.0000, 0.0000, 0.0000, 0.0000, 0.0000, 0.0000, 0.0000,\n",
       "        0.0000, 0.0000, 0.0000, 0.0000, 0.0000, 0.0000, 0.0000, 0.0000, 0.0000,\n",
       "        0.0000, 0.0000, 0.0000, 0.0000, 0.0000, 0.0000, 0.0000, 0.1667, 0.0000,\n",
       "        0.0000, 0.0000, 0.0000, 0.0000, 0.0000, 0.0000, 0.0000, 0.0000, 0.0000,\n",
       "        0.0000, 0.0000, 0.0000, 0.0000, 0.0000, 0.0000, 0.0000, 0.0000, 0.0000,\n",
       "        0.0000, 0.0000, 0.0000, 0.0000, 0.0000, 0.0000, 0.0000, 0.0000, 0.0000,\n",
       "        0.0000, 0.0000, 0.0000, 0.0000, 0.0000, 0.0000, 0.0000, 0.0000, 0.0000,\n",
       "        0.0000, 0.0000, 0.0000, 0.0000, 0.0000, 0.0000, 0.0000, 0.0000, 0.0000,\n",
       "        0.0000, 0.0000, 0.0000, 0.0000, 0.0000, 0.0000, 0.0000, 0.0000, 0.0000,\n",
       "        0.0000, 0.0000, 0.0000, 0.0000, 0.0000, 0.0000, 0.0000, 0.0000, 0.0000,\n",
       "        0.0000, 0.0000, 0.0000, 0.0000, 0.0000, 0.0000, 0.0000, 0.0000, 0.0000,\n",
       "        0.0000, 0.0000, 0.0000, 0.0000, 0.0000, 0.0000, 0.0000, 0.0000, 0.0000,\n",
       "        0.0000, 0.0000, 0.0000, 0.0000, 0.0000, 0.0000, 0.0000, 0.0000, 0.0000,\n",
       "        0.0000, 0.0000, 0.0000, 0.0000, 0.0000, 0.0000, 0.0000, 0.0000, 0.0000,\n",
       "        0.0000, 0.0000, 0.0000, 0.0000, 0.0000, 0.0000, 0.0000, 0.0000, 0.0000,\n",
       "        0.0000, 0.0000, 0.0000, 0.0000, 0.0000, 0.0000, 0.0000, 0.0000, 0.0000,\n",
       "        0.0000, 0.0000, 0.0000, 0.0000, 0.0000, 0.0000, 0.0000, 0.0000, 0.0000,\n",
       "        0.0000, 0.0000, 0.0000, 0.0000, 0.0000, 0.0000, 0.0000, 0.0000, 0.0000,\n",
       "        0.0000, 0.0000, 0.0000, 0.0000, 0.0000, 0.0000, 0.0000, 0.0000, 0.0000,\n",
       "        0.0000, 0.0000, 0.0000, 0.0000, 0.0000, 0.0000, 0.0000, 0.0000, 0.0000,\n",
       "        0.0000, 0.0000, 0.0000, 0.0000, 0.0000, 0.0000, 0.0000, 0.0000, 0.0000,\n",
       "        0.0000, 0.0000, 0.0000, 0.0000, 0.0000, 0.0000, 0.0000, 0.0000, 0.0000,\n",
       "        0.0000, 0.0000, 0.0000, 0.0000, 0.0000, 0.0000, 0.0000, 0.0000, 0.0000,\n",
       "        0.0000, 0.0000, 0.0000, 0.0000, 0.0000, 0.0000, 0.0000, 0.0000, 0.0000,\n",
       "        0.0000, 0.0000, 0.0000, 0.0000, 0.0000, 0.0000, 0.0000, 0.0000, 0.0000,\n",
       "        0.0000, 0.0000, 0.0000, 0.0000, 0.0000, 0.0000, 0.0000, 0.0000, 0.0000,\n",
       "        0.5000, 0.0000, 0.0000, 0.0000, 0.0000, 0.0000, 0.0000, 0.0000, 0.0000,\n",
       "        0.0000, 0.0000, 0.0000, 0.0000, 0.0000, 0.0000, 0.0000, 0.0000, 0.0000,\n",
       "        0.0000, 0.0000, 0.0000, 0.0000, 0.0000, 0.0000, 0.0000, 0.0000, 0.0000,\n",
       "        0.0000, 0.0000, 0.0000, 0.0000, 0.0000, 0.0000, 0.0000, 0.0000, 0.0000,\n",
       "        0.0000, 0.0000, 0.0000, 0.0000, 0.0000, 0.0000, 0.0000, 0.0000, 0.0000,\n",
       "        0.0000, 0.0000, 0.0000, 0.0000, 0.0000, 0.0000, 0.0000, 0.0000, 0.0000,\n",
       "        0.0000, 0.0000, 0.0000, 0.0000, 0.0000, 0.0000, 0.0000, 0.0000, 0.0000,\n",
       "        0.0000, 0.0000, 0.0000, 0.0000, 0.0000, 0.0000, 0.0000, 0.0000, 0.0000,\n",
       "        0.0000, 0.0000, 0.0000, 0.0000, 0.3333, 0.0000, 0.0000, 0.0000, 0.0000,\n",
       "        0.0000, 0.0000, 0.0000, 0.0000, 0.0000, 0.0000, 0.0000, 0.0000, 0.0000,\n",
       "        0.0000, 0.0000, 0.0000, 0.0000, 0.0000, 0.0000, 0.0000, 0.0000, 0.0000,\n",
       "        0.0000, 0.0000, 0.0000, 0.0000, 0.0000, 0.0000, 0.0000, 0.0000, 0.0000,\n",
       "        0.0000, 0.0000, 0.0000, 0.0000, 0.0000, 0.0000, 0.0000, 0.0000, 0.0000,\n",
       "        0.0000, 0.0000, 0.0000, 0.0000, 0.0000, 0.0000, 0.0000, 0.0000, 0.0000,\n",
       "        0.0000, 0.0000, 0.0000, 0.0000, 0.0000, 0.0000, 0.0000, 0.0000, 0.0000,\n",
       "        0.0000, 0.0000, 0.0000, 0.0000, 0.0000, 0.0000, 0.0000, 0.0000, 0.0000,\n",
       "        0.0000, 0.0000, 0.0000, 0.0000, 0.0000, 0.0000, 0.0000, 0.0000, 0.0000,\n",
       "        0.0000, 0.0000, 0.0000, 0.0000, 0.0000, 0.0000, 0.0000, 0.0000, 0.0000,\n",
       "        0.0000, 0.0000, 0.0000, 0.0000, 0.0000, 0.0000, 0.0000, 0.0000, 0.0000,\n",
       "        0.0000, 0.0000, 0.0000, 0.0000, 0.0000, 0.0000, 0.0000, 0.0000, 0.0000,\n",
       "        0.0000, 0.0000, 0.0000, 0.0000, 0.0000, 0.0000, 0.0000, 0.0000, 0.0000,\n",
       "        0.0000, 0.0000, 0.0000, 0.0000, 0.0000, 0.0000, 0.0000, 0.0000, 0.0000,\n",
       "        0.0000, 0.0000, 0.0000, 0.0000, 0.0000, 0.0000, 0.0000, 0.0000, 0.0000,\n",
       "        0.0000, 0.0000, 0.0000, 0.0000, 0.0000, 0.0000, 0.0000, 0.0000, 0.0000,\n",
       "        0.0000, 0.0000, 0.0000, 0.0000, 0.0000, 0.0000, 0.0000, 0.0000, 0.0000,\n",
       "        0.0000, 0.0000, 0.0000, 0.0000, 0.0000, 0.0000, 0.0000, 0.0000, 0.0000,\n",
       "        0.0000, 0.0000, 0.0000, 0.0000, 0.0000, 0.0000, 0.0000, 0.0000, 0.0000,\n",
       "        0.0000, 0.0000, 0.0000, 0.0000, 0.0000, 0.0000, 0.0000, 0.0000, 0.0000,\n",
       "        0.0000, 0.0000, 0.0000, 0.0000, 0.0000, 0.0000, 0.0000, 0.0000, 0.0000,\n",
       "        0.0000, 0.0000, 0.0000, 0.0000, 0.0000, 0.0000, 0.0000, 0.0000, 0.0000,\n",
       "        0.0000, 0.0000, 0.0000, 0.0000, 0.0000, 0.0000, 0.0000, 0.0000, 0.0000,\n",
       "        0.0000, 0.0000, 0.0000, 0.0000, 0.0000, 0.0000, 0.0000, 0.0000])"
      ]
     },
     "execution_count": 61,
     "metadata": {},
     "output_type": "execute_result"
    }
   ],
   "source": [
    "freq_char_banana = multihot_freq(freqs_banana[0], MAX_CHARS)\n",
    "freq_char_banana"
   ]
  },
  {
   "cell_type": "code",
   "execution_count": 62,
   "metadata": {},
   "outputs": [
    {
     "data": {
      "text/plain": [
       "tensor([[ 25, 234, 310]])"
      ]
     },
     "execution_count": 62,
     "metadata": {},
     "output_type": "execute_result"
    }
   ],
   "source": [
    "torch.nonzero(freq_char_banana).T"
   ]
  },
  {
   "cell_type": "code",
   "execution_count": 63,
   "metadata": {},
   "outputs": [
    {
     "data": {
      "text/plain": [
       "tensor([[0.1667, 0.5000, 0.3333]])"
      ]
     },
     "execution_count": 63,
     "metadata": {},
     "output_type": "execute_result"
    }
   ],
   "source": [
    "freq_char_banana[torch.nonzero(freq_char_banana)].T"
   ]
  },
  {
   "cell_type": "markdown",
   "metadata": {},
   "source": [
    "## Creating $X$ and $\\mathbf{y}$ tensors"
   ]
  },
  {
   "cell_type": "markdown",
   "metadata": {},
   "source": [
    "We create a function to read the files and return the language and the sentence. We create the $X$ and $\\mathbf{y}$ tensors from them."
   ]
  },
  {
   "cell_type": "code",
   "execution_count": 64,
   "metadata": {},
   "outputs": [],
   "source": [
    "def read_sent_lang(file):\n",
    "    with open(file, encoding='utf8', errors='ignore') as f:\n",
    "        for line in f:\n",
    "            row = line.strip()\n",
    "            lang_tuple = tuple(row.split('\\t'))\n",
    "            yield lang_tuple[2], lang_tuple[1]   "
   ]
  },
  {
   "cell_type": "markdown",
   "metadata": {},
   "source": [
    "The code below creates a $X$ and $\\mathbf{y}$ tensors. Note that $X$ is a matrix and $\\mathbf{y}$, a vector."
   ]
  },
  {
   "cell_type": "code",
   "execution_count": 65,
   "metadata": {},
   "outputs": [],
   "source": [
    "def create_Xy(file, multihot_func, lang2idx):\n",
    "    X_l = []\n",
    "    y_symb = []\n",
    "    line_cnt = 0\n",
    "    for sentence, lang in read_sent_lang(file):\n",
    "        line_cnt += 1\n",
    "    X = torch.empty((line_cnt, NUM_FEATURES))\n",
    "    for i, (sentence, lang) in tqdm(enumerate(read_sent_lang(file))):\n",
    "        hashes = hash_ngrams(all_ngrams(sentence), MAXES)\n",
    "        hash_freq_l = map(rel_freqs, hashes)\n",
    "        x_row_l = []\n",
    "        for hash_freq_dict, max in zip(hash_freq_l, MAXES):\n",
    "            x_row_l += [multihot_func(hash_freq_dict, max)]\n",
    "        X[i, :] = torch.cat(x_row_l, -1)\n",
    "        y_symb += [lang]\n",
    "    y = torch.LongTensor(list(map(lang2idx.get, y_symb)))\n",
    "    return X, y"
   ]
  },
  {
   "cell_type": "code",
   "execution_count": 66,
   "metadata": {},
   "outputs": [
    {
     "name": "stderr",
     "output_type": "stream",
     "text": [
      "31376it [00:31, 1008.30it/s]\n",
      "3922it [00:03, 1075.96it/s]\n",
      "3923it [00:04, 969.82it/s] \n"
     ]
    }
   ],
   "source": [
    "if REL_FREQ:\n",
    "    X_train, y_train =  create_Xy(FILE_TRAIN, multihot_freq, lang2idx)\n",
    "    X_val, y_val =  create_Xy(FILE_VAL, multihot_freq, lang2idx)\n",
    "    X_test, y_test =  create_Xy(FILE_TEST, multihot_freq, lang2idx)\n",
    "else:\n",
    "    X_train, y_train =  create_Xy(FILE_TRAIN, multihot, lang2idx)\n",
    "    X_val, y_val =  create_Xy(FILE_VAL, multihot, lang2idx)\n",
    "    X_test, y_test =  create_Xy(FILE_TEST, multihot, lang2idx)"
   ]
  },
  {
   "cell_type": "code",
   "execution_count": 67,
   "metadata": {},
   "outputs": [
    {
     "data": {
      "text/plain": [
       "torch.Size([31376, 2583])"
      ]
     },
     "execution_count": 67,
     "metadata": {},
     "output_type": "execute_result"
    }
   ],
   "source": [
    "X_train.size()"
   ]
  },
  {
   "cell_type": "code",
   "execution_count": 68,
   "metadata": {},
   "outputs": [
    {
     "data": {
      "text/plain": [
       "tensor([37, 28, 25, 21, 15, 24,  9, 38, 21, 16])"
      ]
     },
     "execution_count": 68,
     "metadata": {},
     "output_type": "execute_result"
    }
   ],
   "source": [
    "y_train[:10]"
   ]
  },
  {
   "cell_type": "markdown",
   "metadata": {},
   "source": [
    "## Building a Classifier"
   ]
  },
  {
   "cell_type": "markdown",
   "metadata": {},
   "source": [
    "We create the classifier"
   ]
  },
  {
   "cell_type": "code",
   "execution_count": 69,
   "metadata": {},
   "outputs": [],
   "source": [
    "input_dim = X_train.size()[1]"
   ]
  },
  {
   "cell_type": "markdown",
   "metadata": {},
   "source": [
    "Write two model architectures using `nn.Sequential`. One corresponding to logistic regression and the other with one hidden layer."
   ]
  },
  {
   "cell_type": "code",
   "execution_count": 70,
   "metadata": {},
   "outputs": [],
   "source": [
    "# Write your code here\n",
    "if HIDDEN_LAYER:\n",
    "    model = nn.Sequential(\n",
    "        nn.Linear(2583, 128),    # Hidden layer with 128 units\n",
    "        nn.ReLU(),               # ReLU activation\n",
    "        nn.Linear(128, 39)\n",
    "        )\n",
    "else:\n",
    "    model = nn.Sequential(\n",
    "        nn.Linear(2583, 39))"
   ]
  },
  {
   "cell_type": "code",
   "execution_count": 71,
   "metadata": {},
   "outputs": [
    {
     "data": {
      "text/plain": [
       "Sequential(\n",
       "  (0): Linear(in_features=2583, out_features=39, bias=True)\n",
       ")"
      ]
     },
     "execution_count": 71,
     "metadata": {},
     "output_type": "execute_result"
    }
   ],
   "source": [
    "model"
   ]
  },
  {
   "cell_type": "markdown",
   "metadata": {},
   "source": [
    "We set the loss and the optimizer"
   ]
  },
  {
   "cell_type": "code",
   "execution_count": 72,
   "metadata": {},
   "outputs": [],
   "source": [
    "loss_fn = nn.CrossEntropyLoss()    # cross entropy loss\n",
    "optimizer = torch.optim.NAdam(model.parameters(), lr=0.01)"
   ]
  },
  {
   "cell_type": "markdown",
   "metadata": {},
   "source": [
    "## Loading the dataset\n",
    "We use a data loader to supply the training loop with batches"
   ]
  },
  {
   "cell_type": "code",
   "execution_count": 75,
   "metadata": {},
   "outputs": [],
   "source": [
    "dataset = TensorDataset(X_train, y_train)\n",
    "dataloader = DataLoader(dataset, batch_size=BATCH_SIZE, shuffle=True)\n",
    "\n",
    "val_dataset = TensorDataset(X_val, y_val)\n",
    "val_dataloader = DataLoader(val_dataset, batch_size=BATCH_SIZE)"
   ]
  },
  {
   "cell_type": "markdown",
   "metadata": {},
   "source": [
    "## Training the classifier\n",
    "We have a classifier. We now train it on the dataset"
   ]
  },
  {
   "cell_type": "markdown",
   "metadata": {},
   "source": [
    "Write the training loop"
   ]
  },
  {
   "cell_type": "code",
   "execution_count": 76,
   "metadata": {},
   "outputs": [
    {
     "name": "stderr",
     "output_type": "stream",
     "text": [
      "100%|██████████| 10/10 [00:46<00:00,  4.66s/it]\n"
     ]
    }
   ],
   "source": [
    "# Write your code here\n",
    "loss_train_history = []\n",
    "acc_train_history = []\n",
    "loss_val_history = []\n",
    "acc_val_history = []\n",
    "for epoch in tqdm(range(EPOCHS)):\n",
    "    # Training phase\n",
    "    loss_train = 0\n",
    "    correct_train = 0\n",
    "    total_train = 0\n",
    "    model.train()\n",
    "    for X_batch, y_batch in dataloader:\n",
    "        # Forward pass\n",
    "        y_batch_pred = model(X_batch)\n",
    "        loss_batch = loss_fn(y_batch_pred, y_batch)\n",
    "        loss_train += loss_batch.item()\n",
    "\n",
    "        # Backward pass and optimization\n",
    "        optimizer.zero_grad()\n",
    "        loss_batch.backward()\n",
    "        optimizer.step()\n",
    "\n",
    "        # Calculate accuracy for this batch\n",
    "        _, predicted = torch.max(y_batch_pred, 1)  # Get class predictions\n",
    "        correct_train += (predicted == y_batch).sum().item()\n",
    "        total_train += y_batch.size(0)\n",
    "\n",
    "    # Calculate and store training loss and accuracy\n",
    "    loss_train_history.append(loss_train / len(dataloader))\n",
    "    acc_train_history.append(correct_train / total_train)\n",
    "\n",
    "    # Validation phase\n",
    "    loss_val = 0\n",
    "    correct_val = 0\n",
    "    total_val = 0\n",
    "    model.eval()\n",
    "    with torch.no_grad():\n",
    "        for X_val, y_val in val_dataloader:\n",
    "            # Forward pass\n",
    "            y_val_pred = model(X_val)\n",
    "            val_loss = loss_fn(y_val_pred, y_val)\n",
    "            loss_val += val_loss.item()\n",
    "\n",
    "            # Calculate accuracy for this batch\n",
    "            _, predicted = torch.max(y_val_pred, 1)  # Get class predictions\n",
    "            correct_val += (predicted == y_val).sum().item()\n",
    "            total_val += y_val.size(0)\n",
    "\n",
    "    # Calculate and store validation loss and accuracy\n",
    "    loss_val_history.append(loss_val / len(val_dataloader))\n",
    "    acc_val_history.append(correct_val / total_val)\n",
    "\n",
    "        "
   ]
  },
  {
   "cell_type": "markdown",
   "metadata": {},
   "source": [
    "We plot the loss"
   ]
  },
  {
   "cell_type": "code",
   "execution_count": 77,
   "metadata": {},
   "outputs": [
    {
     "data": {
      "image/png": "[encoded data removed]",
      "text/plain": [
       "<Figure size 640x480 with 1 Axes>"
      ]
     },
     "metadata": {},
     "output_type": "display_data"
    }
   ],
   "source": [
    "import matplotlib.pyplot as plt\n",
    "\n",
    "epochs = range(1, len(acc_val_history) + 1)\n",
    "plt.plot(epochs, acc_val_history, 'bo', label='Validation accuracy')\n",
    "plt.title('Validation accuracy')\n",
    "plt.legend()\n",
    "plt.show()"
   ]
  },
  {
   "cell_type": "markdown",
   "metadata": {},
   "source": [
    "## Predicting the test set\n",
    "Predict the whole test set. Call the resulting vector `y_test_pred`."
   ]
  },
  {
   "cell_type": "code",
   "execution_count": 80,
   "metadata": {},
   "outputs": [],
   "source": [
    "# Write your code\n",
    "model.eval()\n",
    "y_test_pred_logits = model(X_test)\n",
    "y_test_pred = torch.argmax(y_test_pred_logits, 1)\n",
    "\n"
   ]
  },
  {
   "cell_type": "code",
   "execution_count": 81,
   "metadata": {},
   "outputs": [
    {
     "data": {
      "text/plain": [
       "tensor([32,  1, 18, 37, 19, 35, 32, 23, 12, 16])"
      ]
     },
     "execution_count": 81,
     "metadata": {},
     "output_type": "execute_result"
    }
   ],
   "source": [
    "y_test_pred[:10]"
   ]
  },
  {
   "cell_type": "code",
   "execution_count": 82,
   "metadata": {},
   "outputs": [
    {
     "name": "stdout",
     "output_type": "stream",
     "text": [
      "              precision    recall  f1-score   support\n",
      "\n",
      "         ara     1.0000    0.9886    0.9943        88\n",
      "         ber     0.7412    0.6429    0.6885        98\n",
      "         bul     0.9263    0.8800    0.9026       100\n",
      "         ces     0.9663    0.9451    0.9556        91\n",
      "         cmn     0.9905    1.0000    0.9952       104\n",
      "         dan     0.9279    0.9279    0.9279       111\n",
      "         deu     1.0000    0.9889    0.9944        90\n",
      "         ell     1.0000    1.0000    1.0000       106\n",
      "         eng     0.9505    0.9897    0.9697        97\n",
      "         epo     0.9663    0.9885    0.9773        87\n",
      "         fin     0.9730    0.9908    0.9818       109\n",
      "         fra     0.9681    0.9891    0.9785        92\n",
      "         hau     0.9794    0.9896    0.9845        96\n",
      "         heb     1.0000    1.0000    1.0000        99\n",
      "         hun     1.0000    0.9798    0.9898        99\n",
      "         ina     0.9358    0.9714    0.9533       105\n",
      "         ita     0.9018    0.9619    0.9309       105\n",
      "         jpn     1.0000    0.9892    0.9946        93\n",
      "         kab     0.7080    0.7767    0.7407       103\n",
      "         lat     0.9634    0.9634    0.9634        82\n",
      "         lfn     0.9080    0.9080    0.9080        87\n",
      "         lit     0.9663    0.9556    0.9609        90\n",
      "         mar     1.0000    1.0000    1.0000       114\n",
      "         mkd     0.8365    0.9355    0.8832        93\n",
      "         nld     0.9900    0.9900    0.9900       100\n",
      "         pes     0.9897    1.0000    0.9948        96\n",
      "         pol     0.9825    0.9912    0.9868       113\n",
      "         por     0.9339    0.9496    0.9417       119\n",
      "         ron     1.0000    0.9364    0.9671       110\n",
      "         rus     0.9196    0.9537    0.9364       108\n",
      "         spa     0.9703    0.9245    0.9469       106\n",
      "         srp     0.9352    0.8487    0.8899       119\n",
      "         swc     0.9794    0.9794    0.9794        97\n",
      "         swe     0.9429    0.9340    0.9384       106\n",
      "         tlh     0.9902    1.0000    0.9951       101\n",
      "         tok     1.0000    1.0000    1.0000       111\n",
      "         tur     1.0000    0.9770    0.9884        87\n",
      "         ukr     0.9664    0.9583    0.9623       120\n",
      "         vie     1.0000    1.0000    1.0000        91\n",
      "\n",
      "    accuracy                         0.9534      3923\n",
      "   macro avg     0.9541    0.9540    0.9536      3923\n",
      "weighted avg     0.9538    0.9534    0.9532      3923\n",
      "\n"
     ]
    }
   ],
   "source": [
    "print(classification_report(y_test, y_test_pred, target_names=langs, digits=4))"
   ]
  },
  {
   "cell_type": "code",
   "execution_count": 83,
   "metadata": {},
   "outputs": [
    {
     "name": "stdout",
     "output_type": "stream",
     "text": [
      "[[ 87   0   0 ...   0   0   0]\n",
      " [  0  63   0 ...   0   0   0]\n",
      " [  0   0  88 ...   0   0   0]\n",
      " ...\n",
      " [  0   0   0 ...  85   0   0]\n",
      " [  0   0   0 ...   0 115   0]\n",
      " [  0   0   0 ...   0   0  91]]\n"
     ]
    }
   ],
   "source": [
    "print(confusion_matrix(y_test, y_test_pred))"
   ]
  },
  {
   "cell_type": "markdown",
   "metadata": {},
   "source": [
    "## Applying the Detector"
   ]
  },
  {
   "cell_type": "code",
   "execution_count": 84,
   "metadata": {},
   "outputs": [],
   "source": [
    "def encode(text, multihot_func, MAXES):\n",
    "    hashes = hash_ngrams(all_ngrams(text), MAXES)\n",
    "    hash_freq_l = map(rel_freqs, hashes)\n",
    "    x_row = torch.empty((0,))\n",
    "    for hash_freq_dict, max in zip(hash_freq_l, MAXES):\n",
    "        x_row = torch.hstack((x_row, multihot_func(hash_freq_dict, max)))\n",
    "    return x_row"
   ]
  },
  {
   "cell_type": "code",
   "execution_count": 85,
   "metadata": {},
   "outputs": [],
   "source": [
    "test_sents = ['Hi guys and girls!',\n",
    "'Hur mår du nu?', \n",
    "'Allt bra idag?', \n",
    "'Salut tout le monde !']"
   ]
  },
  {
   "cell_type": "code",
   "execution_count": 86,
   "metadata": {},
   "outputs": [
    {
     "name": "stdout",
     "output_type": "stream",
     "text": [
      "Hi guys and girls! eng\n",
      "Hur mår du nu? dan\n",
      "Allt bra idag? swe\n",
      "Salut tout le monde ! fra\n"
     ]
    }
   ],
   "source": [
    "for sent in test_sents:\n",
    "    if REL_FREQ:\n",
    "        row = encode(sent, multihot_freq, MAXES)\n",
    "    else:\n",
    "        row = encode(sent, multihot, MAXES)\n",
    "    print(sent, idx2lang[torch.argmax(model(row), dim=-1).item()])"
   ]
  },
  {
   "cell_type": "markdown",
   "metadata": {},
   "source": [
    "## Checking Values\n",
    "Your instructor used this piece of code to test his program\n",
    "\n",
    "line 30316 of training set: _Stanna!_\n",
    "\n",
    "The extracted values should match the vector"
   ]
  },
  {
   "cell_type": "code",
   "execution_count": 87,
   "metadata": {},
   "outputs": [
    {
     "data": {
      "text/plain": [
       "[{56: 0.14285714285714285,\n",
       "  432: 0.14285714285714285,\n",
       "  234: 0.2857142857142857,\n",
       "  310: 0.2857142857142857,\n",
       "  333: 0.14285714285714285},\n",
       " {766: 0.16666666666666666,\n",
       "  603: 0.16666666666666666,\n",
       "  649: 0.16666666666666666,\n",
       "  870: 0.16666666666666666,\n",
       "  808: 0.16666666666666666,\n",
       "  547: 0.16666666666666666},\n",
       " {900: 0.2, 166: 0.2, 697: 0.2, 821: 0.2, 1017: 0.2}]"
      ]
     },
     "execution_count": 87,
     "metadata": {},
     "output_type": "execute_result"
    }
   ],
   "source": [
    "list(map(rel_freqs, hash_ngrams(all_ngrams('Stanna!'), MAXES)))"
   ]
  },
  {
   "cell_type": "code",
   "execution_count": 88,
   "metadata": {},
   "outputs": [
    {
     "data": {
      "text/plain": [
       "tensor([[  56,  234,  310,  333,  432, 1068, 1124, 1170, 1287, 1329, 1391, 1718,\n",
       "         2249, 2373, 2452, 2569]])"
      ]
     },
     "execution_count": 88,
     "metadata": {},
     "output_type": "execute_result"
    }
   ],
   "source": [
    "torch.nonzero(X_train[30316]).T"
   ]
  },
  {
   "cell_type": "code",
   "execution_count": 89,
   "metadata": {},
   "outputs": [
    {
     "data": {
      "text/plain": [
       "tensor([[0.1429, 0.2857, 0.2857, 0.1429, 0.1429, 0.1667, 0.1667, 0.1667, 0.1667,\n",
       "         0.1667, 0.1667, 0.2000, 0.2000, 0.2000, 0.2000, 0.2000]])"
      ]
     },
     "execution_count": 89,
     "metadata": {},
     "output_type": "execute_result"
    }
   ],
   "source": [
    "X_train[30316, torch.nonzero(X_train[30316])].T"
   ]
  },
  {
   "cell_type": "markdown",
   "metadata": {},
   "source": [
    "## Results\n",
    "\n",
    "You will report your results for the different methods you tried. You are only required to process the small dataset.\n",
    "\n",
    "\n",
    "| Method   |      Corpus      |  Encoding | Macro F1: Val. set| Macro F1: Test set|\n",
    "|----------|:-------------|:------|------:|------:|\n",
    "| Logistic regression |  Small | Booleans |xx|xx|\n",
    "| Logistic regression |    Large   |   Booleans |xx|xx|\n",
    "| Logistic regression |  Small |    Frequencies |xx|xx|\n",
    "| Logistic regression |  Large |    Frequencies |xx|xx|\n",
    "| Neural network |  Small | Booleans |xx  |xx|\n",
    "| Neural network |    Large   |   Booleans |xx|xx|\n",
    "| Neural network |  Small |    Frequencies |xx|xx|\n",
    "| Neural network |  Large |    Frequencies |xx|xx|\n",
    "    "
   ]
  },
  {
   "cell_type": "markdown",
   "metadata": {},
   "source": []
  }
 ],
 "metadata": {
  "kernelspec": {
   "display_name": "Python 3",
   "language": "python",
   "name": "python3"
  },
  "language_info": {
   "codemirror_mode": {
    "name": "ipython",
    "version": 3
   },
   "file_extension": ".py",
   "mimetype": "text/x-python",
   "name": "python",
   "nbconvert_exporter": "python",
   "pygments_lexer": "ipython3",
   "version": "3.11.2"
  },
  "orig_nbformat": 4
 },
 "nbformat": 4,
 "nbformat_minor": 2
}
