{
 "cells": [
  {
   "cell_type": "markdown",
   "metadata": {},
   "source": [
    "# Elementary Introduction to Linear Algebra with NumPy\n",
    "\n",
    "\n",
    "Author: Pierre Nugues, revised by Maj Stenmark\n",
    "\n",
    "_À mes anciens profs de maths, un élève respectueux_\n",
    "\n",
    "_À ma HP-21_"
   ]
  },
  {
   "cell_type": "markdown",
   "metadata": {},
   "source": [
    "### Imports\n",
    "Start with importing all modules that you will need in this tutorial."
   ]
  },
  {
   "cell_type": "code",
   "execution_count": 1,
   "metadata": {},
   "outputs": [],
   "source": [
    "# pip install torch matplotlib numpy tensorflow\n",
    "import torch\n",
    "import numpy as np\n",
    "import sklearn\n",
    "import random\n",
    "import matplotlib.pyplot as plt\n",
    "import tensorflow as tf\n",
    "from tensorflow import keras\n",
    "from tensorflow.keras import layers"
   ]
  },
  {
   "cell_type": "markdown",
   "metadata": {},
   "source": [
    "We will set random seeds to make sure that the examples are reproducable. "
   ]
  },
  {
   "cell_type": "code",
   "execution_count": 2,
   "metadata": {},
   "outputs": [],
   "source": [
    "random.seed(4321)\n",
    "np.random.seed(4321)\n",
    "torch.manual_seed(4321)\n",
    "tf.keras.utils.set_random_seed(4321)"
   ]
  },
  {
   "cell_type": "markdown",
   "metadata": {},
   "source": [
    "## Vector space\n",
    "A vector space is a set consisting of \n",
    "1. Elements called vectors, represented as ￼ tuples: \n",
    "* 2D vectors: (2,3)\n",
    "* 3D vectors: (1,2,3)\n",
    "* n-dimensional vectors: (1,2,3,4,...) \n",
    "2. With two operations: \n",
    "* internal, $R^n$ × $R^n$￼ → $R^n$, the addition, denoted + \n",
    "* external, ￼$R$ × ￼$R^n$ → $R^n$￼, the multiplication by a scalar (a real number), denoted ·\n",
    "\n",
    "Concepts used in many applications, for instance robotics."
   ]
  },
  {
   "cell_type": "markdown",
   "metadata": {},
   "source": [
    "Let $u$ and $v$ be two vectors:\n",
    "\n",
    "$u = (u_1,u_2,...,u_n)$ \n",
    "\n",
    "$v = (v_1,v_2,...,v_n)$\n",
    "\n",
    "The operations:\n",
    "Addition: $u + v$, a vector $(u_1 + v_1,u_2 + v_2,…,u_n + v_n)$ \n",
    "\n",
    "Multiplication by scalar: $\\lambda$ $\\cdot$ $v$, a vector (we usually drop the dot) $(\\lambda v_1,\\lambda v_2,...,\\lambda v_n)$"
   ]
  },
  {
   "cell_type": "markdown",
   "metadata": {},
   "source": [
    "### Creating vectors\n"
   ]
  },
  {
   "cell_type": "markdown",
   "metadata": {},
   "source": [
    "With numpy"
   ]
  },
  {
   "cell_type": "code",
   "execution_count": 3,
   "metadata": {},
   "outputs": [
    {
     "data": {
      "text/plain": [
       "array([1, 2, 3])"
      ]
     },
     "execution_count": 3,
     "metadata": {},
     "output_type": "execute_result"
    }
   ],
   "source": [
    "np.array([2, 3])\n",
    "np.array([1, 2, 3])"
   ]
  },
  {
   "cell_type": "markdown",
   "metadata": {},
   "source": [
    "With PyTorch"
   ]
  },
  {
   "cell_type": "code",
   "execution_count": 4,
   "metadata": {},
   "outputs": [
    {
     "data": {
      "text/plain": [
       "tensor([1, 2, 3])"
      ]
     },
     "execution_count": 4,
     "metadata": {},
     "output_type": "execute_result"
    }
   ],
   "source": [
    "torch.tensor([2, 3])\n",
    "torch.tensor([1, 2, 3])"
   ]
  },
  {
   "cell_type": "markdown",
   "metadata": {},
   "source": [
    "## Indices and Slices\n",
    "We access vector coordinates, read or write, with NumPy indices and _slices_.\n",
    "\n",
    "They are identical to Python.\n",
    "\n",
    "Indices start at 0, following most programming languages, and contrary to the mathematical convention to start at 1. "
   ]
  },
  {
   "cell_type": "code",
   "execution_count": 5,
   "metadata": {},
   "outputs": [
    {
     "data": {
      "text/plain": [
       "array([1, 2, 3, 4])"
      ]
     },
     "execution_count": 5,
     "metadata": {},
     "output_type": "execute_result"
    }
   ],
   "source": [
    "vector = np.array([1, 2, 3, 4])\n",
    "vector"
   ]
  },
  {
   "cell_type": "code",
   "execution_count": 6,
   "metadata": {},
   "outputs": [
    {
     "data": {
      "text/plain": [
       "np.int64(2)"
      ]
     },
     "execution_count": 6,
     "metadata": {},
     "output_type": "execute_result"
    }
   ],
   "source": [
    "vector[1] # 2"
   ]
  },
  {
   "cell_type": "markdown",
   "metadata": {},
   "source": [
    "Intervals are specified with a ```start:end (exclusive)```. If either the start or end is left out, the interval will start with the first, or end with the last element in the vector. "
   ]
  },
  {
   "cell_type": "code",
   "execution_count": 7,
   "metadata": {},
   "outputs": [
    {
     "data": {
      "text/plain": [
       "array([1])"
      ]
     },
     "execution_count": 7,
     "metadata": {},
     "output_type": "execute_result"
    }
   ],
   "source": [
    "vector[:1] # [1]"
   ]
  },
  {
   "cell_type": "code",
   "execution_count": 8,
   "metadata": {},
   "outputs": [
    {
     "data": {
      "text/plain": [
       "array([2, 3])"
      ]
     },
     "execution_count": 8,
     "metadata": {},
     "output_type": "execute_result"
    }
   ],
   "source": [
    "vector[1:3] # [2, 3]"
   ]
  },
  {
   "cell_type": "markdown",
   "metadata": {},
   "source": [
    "Similarly, in torch:"
   ]
  },
  {
   "cell_type": "code",
   "execution_count": 9,
   "metadata": {},
   "outputs": [
    {
     "data": {
      "text/plain": [
       "tensor([1, 2, 3, 4])"
      ]
     },
     "execution_count": 9,
     "metadata": {},
     "output_type": "execute_result"
    }
   ],
   "source": [
    "vector = torch.tensor([1, 2, 3, 4])\n",
    "vector"
   ]
  },
  {
   "cell_type": "code",
   "execution_count": 10,
   "metadata": {},
   "outputs": [
    {
     "data": {
      "text/plain": [
       "tensor(1)"
      ]
     },
     "execution_count": 10,
     "metadata": {},
     "output_type": "execute_result"
    }
   ],
   "source": [
    "vector[0]"
   ]
  },
  {
   "cell_type": "code",
   "execution_count": 11,
   "metadata": {},
   "outputs": [
    {
     "data": {
      "text/plain": [
       "tensor([1])"
      ]
     },
     "execution_count": 11,
     "metadata": {},
     "output_type": "execute_result"
    }
   ],
   "source": [
    "vector[:1]"
   ]
  },
  {
   "cell_type": "code",
   "execution_count": 12,
   "metadata": {},
   "outputs": [
    {
     "data": {
      "text/plain": [
       "tensor([2, 3])"
      ]
     },
     "execution_count": 12,
     "metadata": {},
     "output_type": "execute_result"
    }
   ],
   "source": [
    "vector[1:3]"
   ]
  },
  {
   "cell_type": "markdown",
   "metadata": {},
   "source": [
    "## Visualizing vectors"
   ]
  },
  {
   "cell_type": "code",
   "execution_count": 13,
   "metadata": {},
   "outputs": [
    {
     "data": {
      "text/plain": [
       "<matplotlib.patches.FancyArrow at 0x17cf024b0>"
      ]
     },
     "execution_count": 13,
     "metadata": {},
     "output_type": "execute_result"
    },
    {
     "data": {
      "image/png": "[encoded data removed]",
      "text/plain": [
       "<Figure size 640x480 with 1 Axes>"
      ]
     },
     "metadata": {},
     "output_type": "display_data"
    }
   ],
   "source": [
    "plt.arrow(0, 0, np.array([2, 3])[0], np.array([2, 3])[1], width=0.01, color='red')"
   ]
  },
  {
   "cell_type": "markdown",
   "metadata": {},
   "source": [
    "## Operations in the vector space"
   ]
  },
  {
   "cell_type": "markdown",
   "metadata": {},
   "source": [
    "Addition:"
   ]
  },
  {
   "cell_type": "code",
   "execution_count": 14,
   "metadata": {},
   "outputs": [
    {
     "data": {
      "text/plain": [
       "array([5, 7, 9])"
      ]
     },
     "execution_count": 14,
     "metadata": {},
     "output_type": "execute_result"
    }
   ],
   "source": [
    "np.array([1, 2, 3]) + np.array([4, 5, 6])"
   ]
  },
  {
   "cell_type": "markdown",
   "metadata": {},
   "source": [
    "Multiplication with a scalar:"
   ]
  },
  {
   "cell_type": "code",
   "execution_count": 15,
   "metadata": {},
   "outputs": [
    {
     "data": {
      "text/plain": [
       "array([3, 6, 9])"
      ]
     },
     "execution_count": 15,
     "metadata": {},
     "output_type": "execute_result"
    }
   ],
   "source": [
    "3 * np.array([1, 2, 3])"
   ]
  },
  {
   "cell_type": "markdown",
   "metadata": {},
   "source": [
    "Addition in PyTorch:"
   ]
  },
  {
   "cell_type": "code",
   "execution_count": 16,
   "metadata": {},
   "outputs": [
    {
     "data": {
      "text/plain": [
       "tensor([5, 7, 9])"
      ]
     },
     "execution_count": 16,
     "metadata": {},
     "output_type": "execute_result"
    }
   ],
   "source": [
    "torch.tensor([1, 2, 3]) + torch.tensor([4, 5, 6])"
   ]
  },
  {
   "cell_type": "markdown",
   "metadata": {},
   "source": [
    "Multiplication with a scalar in PyTorch:"
   ]
  },
  {
   "cell_type": "code",
   "execution_count": 17,
   "metadata": {},
   "outputs": [
    {
     "data": {
      "text/plain": [
       "tensor([3, 6, 9])"
      ]
     },
     "execution_count": 17,
     "metadata": {},
     "output_type": "execute_result"
    }
   ],
   "source": [
    "3 * torch.tensor([1, 2, 3])"
   ]
  },
  {
   "cell_type": "markdown",
   "metadata": {},
   "source": [
    "## From NumPy to PyTorch and vice-versa"
   ]
  },
  {
   "cell_type": "markdown",
   "metadata": {},
   "source": [
    "To convert from numpy vectors to torch tensors:"
   ]
  },
  {
   "cell_type": "code",
   "execution_count": 18,
   "metadata": {},
   "outputs": [
    {
     "data": {
      "text/plain": [
       "tensor([1, 2, 3])"
      ]
     },
     "execution_count": 18,
     "metadata": {},
     "output_type": "execute_result"
    }
   ],
   "source": [
    "np_array = np.array([1, 2, 3])\n",
    "tensor = torch.from_numpy(np_array)\n",
    "tensor"
   ]
  },
  {
   "cell_type": "markdown",
   "metadata": {},
   "source": [
    "... and vice versa:"
   ]
  },
  {
   "cell_type": "code",
   "execution_count": 19,
   "metadata": {},
   "outputs": [
    {
     "data": {
      "text/plain": [
       "array([1, 2, 3])"
      ]
     },
     "execution_count": 19,
     "metadata": {},
     "output_type": "execute_result"
    }
   ],
   "source": [
    "tensor = torch.tensor([1, 2, 3])\n",
    "np_array = tensor.numpy()\n",
    "np_array"
   ]
  },
  {
   "cell_type": "markdown",
   "metadata": {},
   "source": [
    "## Data Types"
   ]
  },
  {
   "cell_type": "markdown",
   "metadata": {},
   "source": [
    "Numpy vectors will infer the data type from the numerical values in the argument. "
   ]
  },
  {
   "cell_type": "code",
   "execution_count": 20,
   "metadata": {},
   "outputs": [],
   "source": [
    "vector = np.array([1, 2, 3])"
   ]
  },
  {
   "cell_type": "code",
   "execution_count": 21,
   "metadata": {},
   "outputs": [
    {
     "data": {
      "text/plain": [
       "dtype('int64')"
      ]
     },
     "execution_count": 21,
     "metadata": {},
     "output_type": "execute_result"
    }
   ],
   "source": [
    "vector.dtype"
   ]
  },
  {
   "cell_type": "markdown",
   "metadata": {},
   "source": [
    "To change the default data type, you can specify the ```dtype``` argument, e.g, to ```int32```"
   ]
  },
  {
   "cell_type": "code",
   "execution_count": 22,
   "metadata": {},
   "outputs": [
    {
     "data": {
      "text/plain": [
       "array([1, 2, 3], dtype=int32)"
      ]
     },
     "execution_count": 22,
     "metadata": {},
     "output_type": "execute_result"
    }
   ],
   "source": [
    "vector = np.array([1, 2, 3], dtype='int32')\n",
    "vector\n"
   ]
  },
  {
   "cell_type": "code",
   "execution_count": 23,
   "metadata": {},
   "outputs": [
    {
     "data": {
      "text/plain": [
       "dtype('int32')"
      ]
     },
     "execution_count": 23,
     "metadata": {},
     "output_type": "execute_result"
    }
   ],
   "source": [
    "vector.dtype"
   ]
  },
  {
   "cell_type": "markdown",
   "metadata": {},
   "source": [
    "... or ```float64```"
   ]
  },
  {
   "cell_type": "code",
   "execution_count": 24,
   "metadata": {},
   "outputs": [
    {
     "data": {
      "text/plain": [
       "array([1., 2., 3.])"
      ]
     },
     "execution_count": 24,
     "metadata": {},
     "output_type": "execute_result"
    }
   ],
   "source": [
    "vector = np.array([1, 2, 3], dtype='float64')\n",
    "vector"
   ]
  },
  {
   "cell_type": "code",
   "execution_count": 25,
   "metadata": {},
   "outputs": [
    {
     "data": {
      "text/plain": [
       "dtype('float64')"
      ]
     },
     "execution_count": 25,
     "metadata": {},
     "output_type": "execute_result"
    }
   ],
   "source": [
    "vector.dtype"
   ]
  },
  {
   "cell_type": "markdown",
   "metadata": {},
   "source": [
    "... or boolean values"
   ]
  },
  {
   "cell_type": "code",
   "execution_count": 26,
   "metadata": {},
   "outputs": [
    {
     "data": {
      "text/plain": [
       "array([False,  True,  True,  True])"
      ]
     },
     "execution_count": 26,
     "metadata": {},
     "output_type": "execute_result"
    }
   ],
   "source": [
    "np.array([0, 1, 2, 3], dtype='bool')"
   ]
  },
  {
   "cell_type": "markdown",
   "metadata": {},
   "source": [
    "Similarly, we can do the same thing in PyTorch:"
   ]
  },
  {
   "cell_type": "code",
   "execution_count": 27,
   "metadata": {},
   "outputs": [
    {
     "data": {
      "text/plain": [
       "torch.int64"
      ]
     },
     "execution_count": 27,
     "metadata": {},
     "output_type": "execute_result"
    }
   ],
   "source": [
    "torch.tensor([1, 2, 3]).dtype"
   ]
  },
  {
   "cell_type": "code",
   "execution_count": 28,
   "metadata": {},
   "outputs": [
    {
     "data": {
      "text/plain": [
       "tensor([1., 2., 3.], dtype=torch.float16)"
      ]
     },
     "execution_count": 28,
     "metadata": {},
     "output_type": "execute_result"
    }
   ],
   "source": [
    "torch.tensor([1, 2, 3], dtype=torch.float16)"
   ]
  },
  {
   "cell_type": "markdown",
   "metadata": {},
   "source": [
    "## Dot Product"
   ]
  },
  {
   "cell_type": "markdown",
   "metadata": {},
   "source": [
    "A Euclidian vector space consists of a vector space and a bilinear form: \n",
    "￼$R^n$ × ￼$R^n$ → ￼$R^n$\n",
    "$f(u,v) = z$\n",
    "\n",
    "called the dot product and defined as \n",
    "\n",
    "$u  = (u_1,u_2,...,u_n) $\n",
    "\n",
    "$v  = (v_1,v_2,...,v_n) $\n",
    "\n",
    "$u \\cdot v = \\sum u_i v_i$ "
   ]
  },
  {
   "cell_type": "markdown",
   "metadata": {},
   "source": [
    "Dot product in numpy can be calculated using either the method ```dot``` or ```@```"
   ]
  },
  {
   "cell_type": "code",
   "execution_count": 29,
   "metadata": {},
   "outputs": [
    {
     "data": {
      "text/plain": [
       "np.int64(32)"
      ]
     },
     "execution_count": 29,
     "metadata": {},
     "output_type": "execute_result"
    }
   ],
   "source": [
    "np.dot(np.array([1, 2, 3]), np.array([4, 5, 6]))"
   ]
  },
  {
   "cell_type": "markdown",
   "metadata": {},
   "source": [
    "or using the ```@``` operator like this:"
   ]
  },
  {
   "cell_type": "code",
   "execution_count": 30,
   "metadata": {},
   "outputs": [
    {
     "data": {
      "text/plain": [
       "np.int64(32)"
      ]
     },
     "execution_count": 30,
     "metadata": {},
     "output_type": "execute_result"
    }
   ],
   "source": [
    "np.array([1, 2, 3]) @ np.array([4, 5, 6])"
   ]
  },
  {
   "cell_type": "markdown",
   "metadata": {},
   "source": [
    "PyTorch also has both a ```dot``` method and an inline ```@``` operator"
   ]
  },
  {
   "cell_type": "code",
   "execution_count": 31,
   "metadata": {},
   "outputs": [
    {
     "data": {
      "text/plain": [
       "tensor(32)"
      ]
     },
     "execution_count": 31,
     "metadata": {},
     "output_type": "execute_result"
    }
   ],
   "source": [
    "torch.dot(torch.tensor([1, 2, 3]), torch.tensor([4, 5, 6]))"
   ]
  },
  {
   "cell_type": "markdown",
   "metadata": {},
   "source": [
    "and"
   ]
  },
  {
   "cell_type": "code",
   "execution_count": 32,
   "metadata": {},
   "outputs": [
    {
     "data": {
      "text/plain": [
       "tensor(32)"
      ]
     },
     "execution_count": 32,
     "metadata": {},
     "output_type": "execute_result"
    }
   ],
   "source": [
    "torch.tensor([1, 2, 3]) @ torch.tensor([4, 5, 6])"
   ]
  },
  {
   "cell_type": "markdown",
   "metadata": {},
   "source": [
    "## Element-wise Product (Hadamard)\n",
    "One possible source of confusion is the ```*``` operator. This is not part of the vector space definitions and should not to be confused the dot and matrix products"
   ]
  },
  {
   "cell_type": "code",
   "execution_count": 33,
   "metadata": {},
   "outputs": [
    {
     "data": {
      "text/plain": [
       "array([ 4, 10, 18])"
      ]
     },
     "execution_count": 33,
     "metadata": {},
     "output_type": "execute_result"
    }
   ],
   "source": [
    "np.array([1, 2, 3]) * np.array([4, 5, 6]) #(1x4, 2x5, 3x6)"
   ]
  },
  {
   "cell_type": "markdown",
   "metadata": {},
   "source": [
    "The same goes with tensors:"
   ]
  },
  {
   "cell_type": "code",
   "execution_count": 34,
   "metadata": {},
   "outputs": [
    {
     "data": {
      "text/plain": [
       "tensor([ 4, 10, 18])"
      ]
     },
     "execution_count": 34,
     "metadata": {},
     "output_type": "execute_result"
    }
   ],
   "source": [
    "torch.tensor([1, 2, 3]) * torch.tensor([4, 5, 6])"
   ]
  },
  {
   "cell_type": "markdown",
   "metadata": {},
   "source": [
    "## Norm"
   ]
  },
  {
   "cell_type": "markdown",
   "metadata": {},
   "source": [
    "The dot product of a vector by itself defines a metric in the Euclidian vector space.\n",
    "\n",
    "Its square root is called the norm: \n",
    "\n",
    "$\\Vert u \\Vert = \\sqrt{u \\cdot u}$\n",
    "\n",
    "It corresponds to the magnitude of the vector (its length) \n",
    "\n"
   ]
  },
  {
   "cell_type": "code",
   "execution_count": 35,
   "metadata": {},
   "outputs": [
    {
     "data": {
      "text/plain": [
       "np.float64(3.7416573867739413)"
      ]
     },
     "execution_count": 35,
     "metadata": {},
     "output_type": "execute_result"
    }
   ],
   "source": [
    "np.linalg.norm(np.array([1, 2, 3]))"
   ]
  },
  {
   "cell_type": "code",
   "execution_count": 36,
   "metadata": {},
   "outputs": [
    {
     "data": {
      "text/plain": [
       "tensor(3.7417)"
      ]
     },
     "execution_count": 36,
     "metadata": {},
     "output_type": "execute_result"
    }
   ],
   "source": [
    "torch.norm(torch.tensor([1.0, 2.0, 3.0]))"
   ]
  },
  {
   "cell_type": "markdown",
   "metadata": {},
   "source": [
    "### Cosine similarity\n",
    "We often use a generalized cosine to compute similarity of two vectors: \n",
    "￼\n",
    "$cos(\\widehat{\\textbf{u}, \\textbf{v}}) = \\frac{ \\textbf{u} \\cdot  \\textbf{v}}{\\lVert \\textbf{u} \\rVert  \\lVert \\textbf{v} \\rVert }$"
   ]
  },
  {
   "cell_type": "code",
   "execution_count": 37,
   "metadata": {},
   "outputs": [],
   "source": [
    "u = np.array([1, 2, 3])\n",
    "v = np.array([4, 5, 6])\n",
    "similarity = np.dot(u, v) / (np.linalg.norm(u) * np.linalg.norm(v))"
   ]
  },
  {
   "cell_type": "markdown",
   "metadata": {},
   "source": [
    "# Linear and affine maps\n",
    "Simplest form of maps:\n",
    "\n",
    "* Linear maps (function) \n",
    "\n",
    "$R$￼ → $R$\n",
    "\n",
    "$x → f(x) = ax$\n",
    "\n",
    "* Affine map (function)\n",
    "$R$￼ → $R$\n",
    "\n",
    "$x → f(x) = ax + b$\n",
    "\n",
    "Linear maps are defined by the properties:\n",
    "\n",
    "$f(x + y) = f(x) + f(y)$\n",
    "\n",
    "$f(\\lambda x) = \\lambda f(x)$"
   ]
  },
  {
   "cell_type": "markdown",
   "metadata": {},
   "source": [
    "## Linear functions and vectors\n",
    "Extending linear functions to vectors: A linear combination of the \n",
    "coordinates \n",
    "\n",
    "$R^n \\rightarrow R^n$\n",
    "\n",
    "$x \\rightarrow f(x) =  y $\n",
    "\n",
    "If the function is a matrix $A$ it becomes\n",
    "\n",
    "$x \\rightarrow Ax = y$\n",
    "\n",
    "With a matrix notation: \n",
    "$A x \\rightarrow \\begin{bmatrix}\n",
    "a_{11} & a_{12}\\\\\n",
    "a_{21} & a_{22}\n",
    "\\end{bmatrix} \\begin{bmatrix}\n",
    "x_1\\\\\n",
    "x_2\n",
    "\\end{bmatrix} = \\begin{bmatrix}\n",
    "a_{11} x_1 + a_{12} x_2\\\\\n",
    "a_{21} x_1 + a_{22} x_2\n",
    "\\end{bmatrix} = \\begin{bmatrix}\n",
    "y_1\\\\\n",
    "y_2\n",
    "\\end{bmatrix}$\n",
    "\n",
    "This is the dot product of $x$ with each row of the matrix "
   ]
  },
  {
   "cell_type": "markdown",
   "metadata": {},
   "source": [
    "## Matrix example\n",
    "Let us give values to this system:\n",
    "$$\n",
    "\\begin{array}{lcl}\n",
    "a_{11} x_1 + a_{12} x_2 &=& y_1\\\\\n",
    "a_{21} x_1 + a_{22} x_2 &=& y_2\\\\\n",
    "\\end{array}\n",
    "$$\n",
    "For instance:\n",
    "$$\n",
    "\\begin{array}{lcl}\n",
    "1\\times x_1 + 2\\times x_2 &=& y_1\\\\\n",
    "3 \\times x_1 + 4 \\times x_2 &=& y_2\\\\\n",
    "\\end{array}\n",
    "$$\n",
    "\n",
    "With \n",
    "$\\begin{bmatrix}\n",
    "x_1\\\\\n",
    "x_2\\\\\n",
    "\\end{bmatrix} = \\begin{bmatrix}\n",
    "5\\\\\n",
    "6\\\\\n",
    "\\end{bmatrix}$ and $ \\begin{bmatrix}\n",
    "y_1\\\\\n",
    "y_2\\\\\n",
    "\\end{bmatrix} = \\begin{bmatrix}\n",
    "17\\\\\n",
    "39\\\\\n",
    "\\end{bmatrix}\n",
    "$\n",
    "\n",
    "We have:\n",
    "$$\n",
    "\\begin{bmatrix}\n",
    "1 &2\\\\\n",
    "3 &4\\\\\n",
    "\\end{bmatrix}  \n",
    "\\begin{bmatrix}\n",
    "5\\\\\n",
    "6\\\\\n",
    "\\end{bmatrix} =\n",
    "\\begin{bmatrix}\n",
    "17\\\\\n",
    "39\\\\\n",
    "\\end{bmatrix}\n",
    "$$"
   ]
  },
  {
   "cell_type": "markdown",
   "metadata": {},
   "source": [
    "## NumPy Matrices\n",
    "Computing $A \\mathbf{x}$ in numpy.\n",
    "\n",
    "FIrst define $A$"
   ]
  },
  {
   "cell_type": "code",
   "execution_count": 38,
   "metadata": {},
   "outputs": [
    {
     "data": {
      "text/plain": [
       "array([[1, 2],\n",
       "       [3, 4]])"
      ]
     },
     "execution_count": 38,
     "metadata": {},
     "output_type": "execute_result"
    }
   ],
   "source": [
    "A = np.array([[1, 2],\n",
    "          [3, 4]])\n",
    "A"
   ]
  },
  {
   "cell_type": "markdown",
   "metadata": {},
   "source": [
    "Matrix multiplication is the dot product with each row in the matrix."
   ]
  },
  {
   "cell_type": "code",
   "execution_count": 39,
   "metadata": {},
   "outputs": [
    {
     "data": {
      "text/plain": [
       "array([17, 39])"
      ]
     },
     "execution_count": 39,
     "metadata": {},
     "output_type": "execute_result"
    }
   ],
   "source": [
    "A @ np.array([5, 6])"
   ]
  },
  {
   "cell_type": "markdown",
   "metadata": {},
   "source": [
    "Matrix indices are written within the brackets:"
   ]
  },
  {
   "cell_type": "code",
   "execution_count": 40,
   "metadata": {},
   "outputs": [
    {
     "data": {
      "text/plain": [
       "np.int64(2)"
      ]
     },
     "execution_count": 40,
     "metadata": {},
     "output_type": "execute_result"
    }
   ],
   "source": [
    "A[0, 1]"
   ]
  },
  {
   "cell_type": "markdown",
   "metadata": {},
   "source": [
    "Indices can also be given as a range:"
   ]
  },
  {
   "cell_type": "code",
   "execution_count": 41,
   "metadata": {},
   "outputs": [
    {
     "data": {
      "text/plain": [
       "array([[1, 1],\n",
       "       [1, 1]])"
      ]
     },
     "execution_count": 41,
     "metadata": {},
     "output_type": "execute_result"
    }
   ],
   "source": [
    "A[:,:] = 1 # set all elements to 1\n",
    "A"
   ]
  },
  {
   "cell_type": "markdown",
   "metadata": {},
   "source": [
    "Similarly, in PyTorch:"
   ]
  },
  {
   "cell_type": "code",
   "execution_count": 42,
   "metadata": {},
   "outputs": [
    {
     "data": {
      "text/plain": [
       "tensor([17, 39])"
      ]
     },
     "execution_count": 42,
     "metadata": {},
     "output_type": "execute_result"
    }
   ],
   "source": [
    "A = torch.tensor([[1, 2],\n",
    "          [3, 4]])\n",
    "A @ torch.tensor([5, 6])"
   ]
  },
  {
   "cell_type": "code",
   "execution_count": 43,
   "metadata": {},
   "outputs": [
    {
     "data": {
      "text/plain": [
       "tensor([[1, 2],\n",
       "        [3, 4]])"
      ]
     },
     "execution_count": 43,
     "metadata": {},
     "output_type": "execute_result"
    }
   ],
   "source": [
    "A[0, 1]\n",
    "A"
   ]
  },
  {
   "cell_type": "code",
   "execution_count": 44,
   "metadata": {},
   "outputs": [
    {
     "data": {
      "text/plain": [
       "tensor([[1, 1],\n",
       "        [1, 1]])"
      ]
     },
     "execution_count": 44,
     "metadata": {},
     "output_type": "execute_result"
    }
   ],
   "source": [
    "A[:,:] = 1\n",
    "A"
   ]
  },
  {
   "cell_type": "markdown",
   "metadata": {},
   "source": [
    "Matrices in numpy/PyTorch are multidimensional. For example, an image has 3 dimensions, each pixel has a y-value (row), a x-value (column), and the last dimension have 3 values representing the RGB-values of the color of the pixel. \n",
    "\n",
    "We can download a picture of a baguette with the following command:"
   ]
  },
  {
   "cell_type": "code",
   "execution_count": 45,
   "metadata": {},
   "outputs": [
    {
     "name": "stdout",
     "output_type": "stream",
     "text": [
      "  % Total    % Received % Xferd  Average Speed   Time    Time     Time  Current\n",
      "                                 Dload  Upload   Total   Spent    Left  Speed\n",
      "100  152k  100  152k    0     0  1130k      0 --:--:-- --:--:-- --:--:-- 1134k\n"
     ]
    }
   ],
   "source": [
    "!curl -o baguette.jpg https://upload.wikimedia.org/wikipedia/commons/thumb/4/40/Baguette_de_pain%2C_WikiCheese_Lausanne.jpg/1920px-Baguette_de_pain%2C_WikiCheese_Lausanne.jpg"
   ]
  },
  {
   "cell_type": "markdown",
   "metadata": {},
   "source": [
    "First, we will read the image and visualize the image using ```imread``` and ```imshow```:"
   ]
  },
  {
   "cell_type": "code",
   "execution_count": 46,
   "metadata": {},
   "outputs": [
    {
     "name": "stdout",
     "output_type": "stream",
     "text": [
      "(932, 1920, 3)\n"
     ]
    },
    {
     "data": {
      "text/plain": [
       "<matplotlib.image.AxesImage at 0x17f1a3320>"
      ]
     },
     "execution_count": 46,
     "metadata": {},
     "output_type": "execute_result"
    },
    {
     "data": {
      "image/png": "[encoded data removed]",
      "text/plain": [
       "<Figure size 640x480 with 1 Axes>"
      ]
     },
     "metadata": {},
     "output_type": "display_data"
    }
   ],
   "source": [
    "import matplotlib.image as mpimg\n",
    "import matplotlib.pyplot as plt\n",
    "\n",
    "\n",
    "img = mpimg.imread('baguette.jpg') \n",
    "print(img.shape)\n",
    "plt.imshow(img)\n",
    "\n"
   ]
  },
  {
   "cell_type": "markdown",
   "metadata": {},
   "source": [
    "We can cut a part of the image using matrix slicing:"
   ]
  },
  {
   "cell_type": "code",
   "execution_count": 47,
   "metadata": {},
   "outputs": [
    {
     "data": {
      "text/plain": [
       "<matplotlib.image.AxesImage at 0x17f368620>"
      ]
     },
     "execution_count": 47,
     "metadata": {},
     "output_type": "execute_result"
    },
    {
     "data": {
      "image/png": "[encoded data removed]",
      "text/plain": [
       "<Figure size 640x480 with 1 Axes>"
      ]
     },
     "metadata": {},
     "output_type": "display_data"
    }
   ],
   "source": [
    "\n",
    "plt.imshow(img[400:600, 400:1000, :])"
   ]
  },
  {
   "cell_type": "markdown",
   "metadata": {},
   "source": [
    "If we skip the first color when we copy the values of the image to the variable ```nored```, we will remove red from the image."
   ]
  },
  {
   "cell_type": "code",
   "execution_count": 48,
   "metadata": {},
   "outputs": [
    {
     "data": {
      "text/plain": [
       "<matplotlib.image.AxesImage at 0x17f6950a0>"
      ]
     },
     "execution_count": 48,
     "metadata": {},
     "output_type": "execute_result"
    },
    {
     "data": {
      "image/png": "[encoded data removed]",
      "text/plain": [
       "<Figure size 640x480 with 1 Axes>"
      ]
     },
     "metadata": {},
     "output_type": "display_data"
    }
   ],
   "source": [
    "nored = np.zeros(img.shape, dtype = img.dtype)\n",
    "nored[:, :, 1:3] = img[:, :, 1:3]\n",
    "plt.imshow(nored)"
   ]
  },
  {
   "cell_type": "markdown",
   "metadata": {},
   "source": [
    "## Matrix operations"
   ]
  },
  {
   "cell_type": "markdown",
   "metadata": {},
   "source": [
    "Matrix additions and multiplications by a scalar are the same as with \n",
    "vectors: \n",
    "\n",
    "$A = \\begin{bmatrix}\n",
    "a_{11} & a_{12}\\\\\n",
    "a_{21} & a_{22}\n",
    "\\end{bmatrix}$ , \n",
    "$B = \\begin{bmatrix}\n",
    "b_{11} & b_{12}\\\\\n",
    "b_{21} & b_{22}\n",
    "\\end{bmatrix}$\n",
    "\n",
    "$\n",
    "A + B = \\begin{bmatrix}\n",
    "a_{11} + b_{11} & a_{12} + b_{12}\\\\\n",
    "a_{21} + b_{21} & a_{22}+ b_{22}\n",
    "\\end{bmatrix}\n",
    "$"
   ]
  },
  {
   "cell_type": "markdown",
   "metadata": {},
   "source": [
    "And in code:"
   ]
  },
  {
   "cell_type": "code",
   "execution_count": 49,
   "metadata": {},
   "outputs": [
    {
     "data": {
      "text/plain": [
       "array([[ 6,  8],\n",
       "       [ 9, 12]])"
      ]
     },
     "execution_count": 49,
     "metadata": {},
     "output_type": "execute_result"
    }
   ],
   "source": [
    "np.array([[1, 2], [2, 4]]) + np.array([[5, 6], [7, 8]])"
   ]
  },
  {
   "cell_type": "markdown",
   "metadata": {},
   "source": [
    "Multiplication with a scalar $\\lambda$:\n",
    "\n",
    "$\n",
    "\\lambda A = \\begin{bmatrix}\n",
    "\\lambda a_{11} & \\lambda a_{12}\\\\\n",
    "\\lambda a_{21} & \\lambda a_{22}\n",
    "\\end{bmatrix}$\n",
    "\n",
    "For example with:"
   ]
  },
  {
   "cell_type": "code",
   "execution_count": 50,
   "metadata": {},
   "outputs": [
    {
     "data": {
      "text/plain": [
       "array([[0.5, 1. ],\n",
       "       [1. , 2. ]])"
      ]
     },
     "execution_count": 50,
     "metadata": {},
     "output_type": "execute_result"
    }
   ],
   "source": [
    "0.5 * np.array([[1, 2], [2, 4]])"
   ]
  },
  {
   "cell_type": "markdown",
   "metadata": {},
   "source": [
    "In PyTorch"
   ]
  },
  {
   "cell_type": "code",
   "execution_count": 51,
   "metadata": {},
   "outputs": [
    {
     "data": {
      "text/plain": [
       "tensor([[ 6,  8],\n",
       "        [ 9, 12]])"
      ]
     },
     "execution_count": 51,
     "metadata": {},
     "output_type": "execute_result"
    }
   ],
   "source": [
    "torch.tensor([[1, 2], [2, 4]]) + torch.tensor([[5, 6], [7, 8]])"
   ]
  },
  {
   "cell_type": "code",
   "execution_count": 52,
   "metadata": {},
   "outputs": [
    {
     "data": {
      "text/plain": [
       "tensor([[0.5000, 1.0000],\n",
       "        [1.0000, 2.0000]])"
      ]
     },
     "execution_count": 52,
     "metadata": {},
     "output_type": "execute_result"
    }
   ],
   "source": [
    "0.5 * torch.tensor([[1, 2], [2, 4]])"
   ]
  },
  {
   "cell_type": "markdown",
   "metadata": {},
   "source": [
    "## Element-wise Multiplication\n",
    "Note that ```*``` is __not__ the matrix product, it is element-wise multiplication (Hadamard product)\n",
    "\n",
    "$\n",
    "A \\odot  B = \\begin{bmatrix}\n",
    "a_{11}  b_{11} & a_{12}  b_{12}\\\\\n",
    "a_{21}  b_{21} & a_{22} b_{22}\n",
    "\\end{bmatrix}\n",
    "$"
   ]
  },
  {
   "cell_type": "code",
   "execution_count": 53,
   "metadata": {},
   "outputs": [
    {
     "data": {
      "text/plain": [
       "array([[ 5, 12],\n",
       "       [14, 32]])"
      ]
     },
     "execution_count": 53,
     "metadata": {},
     "output_type": "execute_result"
    }
   ],
   "source": [
    "np.array([[1, 2], [2, 4]]) * np.array([[5, 6], [7, 8]]) #which is not the same as matrix multiplication"
   ]
  },
  {
   "cell_type": "code",
   "execution_count": 54,
   "metadata": {},
   "outputs": [
    {
     "data": {
      "text/plain": [
       "tensor([[ 5, 12],\n",
       "        [14, 32]])"
      ]
     },
     "execution_count": 54,
     "metadata": {},
     "output_type": "execute_result"
    }
   ],
   "source": [
    "torch.tensor([[1, 2], [2, 4]]) * torch.tensor([[5, 6], [7, 8]])"
   ]
  },
  {
   "cell_type": "markdown",
   "metadata": {},
   "source": [
    "## Matrices and Rotations"
   ]
  },
  {
   "cell_type": "markdown",
   "metadata": {},
   "source": [
    "We will now have a look at vector rotation. From algebra courses, we know that we can use a matrix to compute a rotation of angle $\\theta$. For a two-dimensional vector, the rotation matrix is:\n",
    "$$\n",
    "R_{\\theta} =\n",
    "\\begin{bmatrix*}\n",
    "\\cos \\theta &-\\sin \\theta \\\\\n",
    "\\sin \\theta & \\cos \\theta \\\\\n",
    "\\end{bmatrix*}.\n",
    "$$"
   ]
  },
  {
   "cell_type": "markdown",
   "metadata": {},
   "source": [
    "Rotation of an angle of π/4 of vector (1,1):\n",
    "$\\begin{bmatrix}\n",
    "\\frac{\\sqrt{2}}{2} & -\\frac{\\sqrt{2}}{2}\\\\\n",
    "\\frac{\\sqrt{2}}{2} & \\frac{\\sqrt{2}}{2}\n",
    "\\end{bmatrix} \\begin{bmatrix}\n",
    "1\\\\\n",
    "1\n",
    "\\end{bmatrix} = \\begin{bmatrix}\n",
    "0\\\\\n",
    "\\sqrt{2}\n",
    "\\end{bmatrix}$"
   ]
  },
  {
   "cell_type": "code",
   "execution_count": 55,
   "metadata": {},
   "outputs": [
    {
     "data": {
      "text/plain": [
       "array([[ 0.70710678, -0.70710678],\n",
       "       [ 0.70710678,  0.70710678]])"
      ]
     },
     "execution_count": 55,
     "metadata": {},
     "output_type": "execute_result"
    }
   ],
   "source": [
    "theta_45 = np.pi/4\n",
    "rot_mat_45 = np.array([[np.cos(theta_45), -np.sin(theta_45)],\n",
    "          [np.sin(theta_45), np.cos(theta_45)]])\n",
    "rot_mat_45"
   ]
  },
  {
   "cell_type": "markdown",
   "metadata": {},
   "source": [
    "we rotate vector (1, 1) by this angle"
   ]
  },
  {
   "cell_type": "code",
   "execution_count": 56,
   "metadata": {},
   "outputs": [
    {
     "data": {
      "text/plain": [
       "array([1.11022302e-16, 1.41421356e+00])"
      ]
     },
     "execution_count": 56,
     "metadata": {},
     "output_type": "execute_result"
    }
   ],
   "source": [
    "rot_mat_45 @ np.array([1, 1])"
   ]
  },
  {
   "cell_type": "markdown",
   "metadata": {},
   "source": [
    "The matrix of a sequence of rotations, for instance a rotation of $\\pi/6$ followed by a rotation of $\\pi/4$, is simply the matrix product of the individual rotations $R_{{\\theta}_1} R_{{\\theta}_2}  = R_{{\\theta}_1 + {\\theta}_2}$, here $R_{\\pi/4} R_{\\pi/6}  = R_{5\\pi/12}$. \n",
    "\n",
    "Note the order of the multiplication of the rotation matrices, when rotating in the global coordinate system the matrices will be multiplied from the _left_, then applying rotations in a local coordinate system, the matrices are multiplied from the _right_."
   ]
  },
  {
   "cell_type": "code",
   "execution_count": 57,
   "metadata": {},
   "outputs": [
    {
     "data": {
      "text/plain": [
       "array([[ 0.8660254, -0.5      ],\n",
       "       [ 0.5      ,  0.8660254]])"
      ]
     },
     "execution_count": 57,
     "metadata": {},
     "output_type": "execute_result"
    }
   ],
   "source": [
    "theta_30 = np.pi/6\n",
    "rot_mat_30 = np.array([[np.cos(theta_30), -np.sin(theta_30)],\n",
    "          [np.sin(theta_30), np.cos(theta_30)]])\n",
    "rot_mat_30"
   ]
  },
  {
   "cell_type": "code",
   "execution_count": 58,
   "metadata": {},
   "outputs": [
    {
     "data": {
      "text/plain": [
       "array([[ 0.25881905, -0.96592583],\n",
       "       [ 0.96592583,  0.25881905]])"
      ]
     },
     "execution_count": 58,
     "metadata": {},
     "output_type": "execute_result"
    }
   ],
   "source": [
    "rot_mat_30 @ rot_mat_45"
   ]
  },
  {
   "cell_type": "code",
   "execution_count": 59,
   "metadata": {},
   "outputs": [
    {
     "data": {
      "text/plain": [
       "array([[ 0.25881905, -0.96592583],\n",
       "       [ 0.96592583,  0.25881905]])"
      ]
     },
     "execution_count": 59,
     "metadata": {},
     "output_type": "execute_result"
    }
   ],
   "source": [
    "rot_mat_45 @ rot_mat_30"
   ]
  },
  {
   "cell_type": "code",
   "execution_count": 60,
   "metadata": {},
   "outputs": [
    {
     "data": {
      "text/plain": [
       "np.float64(1.3089969339255036)"
      ]
     },
     "execution_count": 60,
     "metadata": {},
     "output_type": "execute_result"
    }
   ],
   "source": [
    "np.arccos(0.25881905)"
   ]
  },
  {
   "cell_type": "code",
   "execution_count": 61,
   "metadata": {},
   "outputs": [
    {
     "data": {
      "text/plain": [
       "1.308996938995747"
      ]
     },
     "execution_count": 61,
     "metadata": {},
     "output_type": "execute_result"
    }
   ],
   "source": [
    "np.pi/4 + np.pi/6"
   ]
  },
  {
   "cell_type": "markdown",
   "metadata": {},
   "source": [
    "With PyTorch"
   ]
  },
  {
   "cell_type": "code",
   "execution_count": 62,
   "metadata": {},
   "outputs": [
    {
     "data": {
      "text/plain": [
       "tensor([[ 0.2588, -0.9659],\n",
       "        [ 0.9659,  0.2588]], dtype=torch.float64)"
      ]
     },
     "execution_count": 62,
     "metadata": {},
     "output_type": "execute_result"
    }
   ],
   "source": [
    "torch.from_numpy(rot_mat_30) @ torch.from_numpy(rot_mat_45)"
   ]
  },
  {
   "cell_type": "code",
   "execution_count": 63,
   "metadata": {},
   "outputs": [
    {
     "data": {
      "text/plain": [
       "tensor([[ 0.2588, -0.9659],\n",
       "        [ 0.9659,  0.2588]], dtype=torch.float64)"
      ]
     },
     "execution_count": 63,
     "metadata": {},
     "output_type": "execute_result"
    }
   ],
   "source": [
    "torch.from_numpy(rot_mat_45) @ torch.from_numpy(rot_mat_30)"
   ]
  },
  {
   "cell_type": "markdown",
   "metadata": {},
   "source": [
    "## Inverse"
   ]
  },
  {
   "cell_type": "markdown",
   "metadata": {},
   "source": [
    "Inverse function $g$ of $f$ defined as:\n",
    "$\\forall x,(f \\circ g)(x)=(g \\circ f)(x)=x$\n",
    "\n",
    "Denoted: \n",
    "$g = f^{-1}$\n",
    "\n",
    "For matrices: \n",
    "\n",
    "$M M^{-1 } = M^{-1} M = I$\n",
    "\n",
    "where $I$ is the identity matrix with a diagonal of ones. "
   ]
  },
  {
   "cell_type": "markdown",
   "metadata": {},
   "source": [
    "Numpy Inverse:"
   ]
  },
  {
   "cell_type": "code",
   "execution_count": 64,
   "metadata": {},
   "outputs": [
    {
     "data": {
      "text/plain": [
       "array([[ 0.8660254,  0.5      ],\n",
       "       [-0.5      ,  0.8660254]])"
      ]
     },
     "execution_count": 64,
     "metadata": {},
     "output_type": "execute_result"
    }
   ],
   "source": [
    "np.linalg.inv(rot_mat_30)"
   ]
  },
  {
   "cell_type": "code",
   "execution_count": 65,
   "metadata": {},
   "outputs": [
    {
     "data": {
      "text/plain": [
       "array([[1.00000000e+00, 7.43708407e-18],\n",
       "       [6.29482353e-17, 1.00000000e+00]])"
      ]
     },
     "execution_count": 65,
     "metadata": {},
     "output_type": "execute_result"
    }
   ],
   "source": [
    "np.linalg.inv(rot_mat_30) @ rot_mat_30"
   ]
  },
  {
   "cell_type": "code",
   "execution_count": 66,
   "metadata": {},
   "outputs": [
    {
     "data": {
      "text/plain": [
       "tensor([[ 0.8660,  0.5000],\n",
       "        [-0.5000,  0.8660]], dtype=torch.float64)"
      ]
     },
     "execution_count": 66,
     "metadata": {},
     "output_type": "execute_result"
    }
   ],
   "source": [
    "torch.inverse(torch.from_numpy(rot_mat_30)) "
   ]
  },
  {
   "cell_type": "markdown",
   "metadata": {},
   "source": [
    "## Size of a Matrix"
   ]
  },
  {
   "cell_type": "markdown",
   "metadata": {},
   "source": [
    "The size of a matrix is the number of rows and number of columns. The are called the dimensions of the matrix: "
   ]
  },
  {
   "cell_type": "code",
   "execution_count": 67,
   "metadata": {},
   "outputs": [
    {
     "data": {
      "text/plain": [
       "(2, 3)"
      ]
     },
     "execution_count": 67,
     "metadata": {},
     "output_type": "execute_result"
    }
   ],
   "source": [
    "A = np.array([[1, 2, 3],\n",
    "            [4, 5, 6]])\n",
    "A.shape"
   ]
  },
  {
   "cell_type": "code",
   "execution_count": 68,
   "metadata": {},
   "outputs": [
    {
     "data": {
      "text/plain": [
       "torch.Size([2, 3])"
      ]
     },
     "execution_count": 68,
     "metadata": {},
     "output_type": "execute_result"
    }
   ],
   "source": [
    "A = torch.tensor([[1, 2, 3],\n",
    "            [4, 5, 6]])\n",
    "A.size()"
   ]
  },
  {
   "cell_type": "markdown",
   "metadata": {},
   "source": [
    "The size of a vector in numpy is a tuple with one value"
   ]
  },
  {
   "cell_type": "code",
   "execution_count": 69,
   "metadata": {},
   "outputs": [
    {
     "data": {
      "text/plain": [
       "(3,)"
      ]
     },
     "execution_count": 69,
     "metadata": {},
     "output_type": "execute_result"
    }
   ],
   "source": [
    "x = np.array([1, 2, 3])\n",
    "x.shape"
   ]
  },
  {
   "cell_type": "markdown",
   "metadata": {},
   "source": [
    "And in PyTorch, it is expressed using a list with one value:"
   ]
  },
  {
   "cell_type": "code",
   "execution_count": 70,
   "metadata": {},
   "outputs": [
    {
     "data": {
      "text/plain": [
       "torch.Size([3])"
      ]
     },
     "execution_count": 70,
     "metadata": {},
     "output_type": "execute_result"
    }
   ],
   "source": [
    "x = torch.tensor([1, 2, 3])\n",
    "x.size()"
   ]
  },
  {
   "cell_type": "markdown",
   "metadata": {},
   "source": [
    "## Transpose"
   ]
  },
  {
   "cell_type": "markdown",
   "metadata": {},
   "source": [
    "The transpose of a matrix $A = [a_{i,j} ]$ is defined as $A^T = [a_{j,i}]$. \n",
    "\n",
    "This is the flipped matrix with regard to the diagonal. An important property: \n",
    "$(AB)^T = B^T A^T$"
   ]
  },
  {
   "cell_type": "code",
   "execution_count": 71,
   "metadata": {},
   "outputs": [
    {
     "data": {
      "text/plain": [
       "array([[1, 3],\n",
       "       [2, 4]])"
      ]
     },
     "execution_count": 71,
     "metadata": {},
     "output_type": "execute_result"
    }
   ],
   "source": [
    "A = np.array([[1, 2],\n",
    "          [3, 4]])\n",
    "A.T"
   ]
  },
  {
   "cell_type": "code",
   "execution_count": 72,
   "metadata": {},
   "outputs": [
    {
     "data": {
      "text/plain": [
       "tensor([[1, 3],\n",
       "        [2, 4]])"
      ]
     },
     "execution_count": 72,
     "metadata": {},
     "output_type": "execute_result"
    }
   ],
   "source": [
    "A = torch.tensor([[1, 2],\n",
    "          [3, 4]])\n",
    "A.T"
   ]
  },
  {
   "cell_type": "markdown",
   "metadata": {},
   "source": [
    "## Transposing a Vector"
   ]
  },
  {
   "cell_type": "markdown",
   "metadata": {},
   "source": [
    "Transposing arrays with another dimension than 2 does not make much sense (see the definition above)."
   ]
  },
  {
   "cell_type": "code",
   "execution_count": 73,
   "metadata": {},
   "outputs": [
    {
     "data": {
      "text/plain": [
       "array([1, 2, 3])"
      ]
     },
     "execution_count": 73,
     "metadata": {},
     "output_type": "execute_result"
    }
   ],
   "source": [
    "x = np.array([1, 2, 3])\n",
    "x.T"
   ]
  },
  {
   "cell_type": "code",
   "execution_count": 74,
   "metadata": {},
   "outputs": [
    {
     "name": "stderr",
     "output_type": "stream",
     "text": [
      "/var/folders/kf/bnch0cld3j1818zdbvh8j9000000gq/T/ipykernel_26181/2773976921.py:2: UserWarning: The use of `x.T` on tensors of dimension other than 2 to reverse their shape is deprecated and it will throw an error in a future release. Consider `x.mT` to transpose batches of matrices or `x.permute(*torch.arange(x.ndim - 1, -1, -1))` to reverse the dimensions of a tensor. (Triggered internally at /Users/runner/work/pytorch/pytorch/pytorch/aten/src/ATen/native/TensorShape.cpp:3687.)\n",
      "  x.T\n"
     ]
    },
    {
     "data": {
      "text/plain": [
       "tensor([1, 2, 3])"
      ]
     },
     "execution_count": 74,
     "metadata": {},
     "output_type": "execute_result"
    }
   ],
   "source": [
    "x = torch.tensor([1, 2, 3])\n",
    "x.T"
   ]
  },
  {
   "cell_type": "markdown",
   "metadata": {},
   "source": [
    "## Reshaping a Vector"
   ]
  },
  {
   "cell_type": "markdown",
   "metadata": {},
   "source": [
    "We can convert a vector that has no direction (neither vertical or horizontal) to a __row vector__ or a __column vector__ with dimensions $(1 \\times n)$ or $(n \\times 1)$. The ```reshape``` method can be used to change the dimensions of the ```np.array```."
   ]
  },
  {
   "cell_type": "code",
   "execution_count": 75,
   "metadata": {},
   "outputs": [
    {
     "data": {
      "text/plain": [
       "array([[1, 2, 3]])"
      ]
     },
     "execution_count": 75,
     "metadata": {},
     "output_type": "execute_result"
    }
   ],
   "source": [
    "x = np.array([1, 2, 3])\n",
    "x.reshape((1,3))"
   ]
  },
  {
   "cell_type": "code",
   "execution_count": 76,
   "metadata": {},
   "outputs": [
    {
     "data": {
      "text/plain": [
       "array([[1],\n",
       "       [2],\n",
       "       [3]])"
      ]
     },
     "execution_count": 76,
     "metadata": {},
     "output_type": "execute_result"
    }
   ],
   "source": [
    "x.reshape((1,3)).T"
   ]
  },
  {
   "cell_type": "code",
   "execution_count": null,
   "metadata": {},
   "outputs": [],
   "source": []
  },
  {
   "cell_type": "markdown",
   "metadata": {},
   "source": [
    "Using the argument $-1$ will calculate the last dimension from the number of elements in the ```np.array```."
   ]
  },
  {
   "cell_type": "code",
   "execution_count": 77,
   "metadata": {},
   "outputs": [
    {
     "data": {
      "text/plain": [
       "array([[1, 2, 3]])"
      ]
     },
     "execution_count": 77,
     "metadata": {},
     "output_type": "execute_result"
    }
   ],
   "source": [
    "x = np.array([1, 2, 3])\n",
    "x.reshape((1,-1))"
   ]
  },
  {
   "cell_type": "markdown",
   "metadata": {},
   "source": [
    "Similarly in PyTorch:"
   ]
  },
  {
   "cell_type": "code",
   "execution_count": 78,
   "metadata": {},
   "outputs": [
    {
     "data": {
      "text/plain": [
       "tensor([[1, 2, 3]])"
      ]
     },
     "execution_count": 78,
     "metadata": {},
     "output_type": "execute_result"
    }
   ],
   "source": [
    "x = torch.tensor([1, 2, 3])\n",
    "x.reshape((1,-1))"
   ]
  },
  {
   "cell_type": "code",
   "execution_count": 79,
   "metadata": {},
   "outputs": [
    {
     "data": {
      "text/plain": [
       "tensor([[1],\n",
       "        [2],\n",
       "        [3]])"
      ]
     },
     "execution_count": 79,
     "metadata": {},
     "output_type": "execute_result"
    }
   ],
   "source": [
    "x.reshape((1,-1)).T"
   ]
  },
  {
   "cell_type": "markdown",
   "metadata": {},
   "source": [
    "This is very useful when processing data, for example an image:"
   ]
  },
  {
   "cell_type": "code",
   "execution_count": 80,
   "metadata": {},
   "outputs": [
    {
     "data": {
      "text/plain": [
       "(28, 28)"
      ]
     },
     "execution_count": 80,
     "metadata": {},
     "output_type": "execute_result"
    }
   ],
   "source": [
    "img = mpimg.imread('one.png')\n",
    "img.shape"
   ]
  },
  {
   "cell_type": "code",
   "execution_count": 81,
   "metadata": {},
   "outputs": [
    {
     "data": {
      "text/plain": [
       "<matplotlib.image.AxesImage at 0x17f6ff5c0>"
      ]
     },
     "execution_count": 81,
     "metadata": {},
     "output_type": "execute_result"
    },
    {
     "data": {
      "image/png": "[encoded data removed]",
      "text/plain": [
       "<Figure size 640x480 with 1 Axes>"
      ]
     },
     "metadata": {},
     "output_type": "display_data"
    }
   ],
   "source": [
    "plt.imshow(img, cmap='gray')"
   ]
  },
  {
   "cell_type": "markdown",
   "metadata": {},
   "source": [
    "But when dealing with input data we want to have a (column) vector. Then we can reshape the image:"
   ]
  },
  {
   "cell_type": "code",
   "execution_count": 82,
   "metadata": {},
   "outputs": [
    {
     "data": {
      "text/plain": [
       "(784, 1)"
      ]
     },
     "execution_count": 82,
     "metadata": {},
     "output_type": "execute_result"
    }
   ],
   "source": [
    "X = img.reshape(-1, 1)\n",
    "X.shape"
   ]
  },
  {
   "cell_type": "markdown",
   "metadata": {},
   "source": [
    "Going back to an image, we can use reshape again:"
   ]
  },
  {
   "cell_type": "code",
   "execution_count": 83,
   "metadata": {},
   "outputs": [
    {
     "data": {
      "text/plain": [
       "<matplotlib.image.AxesImage at 0x17f85f380>"
      ]
     },
     "execution_count": 83,
     "metadata": {},
     "output_type": "execute_result"
    },
    {
     "data": {
      "image/png": "[encoded data removed]",
      "text/plain": [
       "<Figure size 640x480 with 1 Axes>"
      ]
     },
     "metadata": {},
     "output_type": "display_data"
    }
   ],
   "source": [
    "img2 = X.reshape(28, 28)\n",
    "plt.imshow(img2, cmap='gray')"
   ]
  },
  {
   "cell_type": "markdown",
   "metadata": {},
   "source": [
    "## Utilities"
   ]
  },
  {
   "cell_type": "markdown",
   "metadata": {},
   "source": [
    "We can add a dimension by using ```np.newaxis``` as an index, which will return a new ```np.array``` instead of reshaping:"
   ]
  },
  {
   "cell_type": "code",
   "execution_count": 84,
   "metadata": {},
   "outputs": [
    {
     "data": {
      "text/plain": [
       "array([[1],\n",
       "       [2],\n",
       "       [3]])"
      ]
     },
     "execution_count": 84,
     "metadata": {},
     "output_type": "execute_result"
    }
   ],
   "source": [
    "v = np.array([1, 2, 3])\n",
    "vrows = v[:, np.newaxis]\n",
    "vrows"
   ]
  },
  {
   "cell_type": "code",
   "execution_count": 85,
   "metadata": {},
   "outputs": [
    {
     "data": {
      "text/plain": [
       "array([[1, 2, 3]])"
      ]
     },
     "execution_count": 85,
     "metadata": {},
     "output_type": "execute_result"
    }
   ],
   "source": [
    "vcols = v[np.newaxis, :]    \n",
    "vcols"
   ]
  },
  {
   "cell_type": "markdown",
   "metadata": {},
   "source": [
    "There are some commonly used utility functions for creating matrices:"
   ]
  },
  {
   "cell_type": "code",
   "execution_count": 86,
   "metadata": {},
   "outputs": [
    {
     "data": {
      "text/plain": [
       "array([[1., 0., 0.],\n",
       "       [0., 1., 0.],\n",
       "       [0., 0., 1.]])"
      ]
     },
     "execution_count": 86,
     "metadata": {},
     "output_type": "execute_result"
    }
   ],
   "source": [
    "np.eye(3)"
   ]
  },
  {
   "cell_type": "code",
   "execution_count": 87,
   "metadata": {},
   "outputs": [
    {
     "data": {
      "text/plain": [
       "array([[0., 0., 0., 0.],\n",
       "       [0., 0., 0., 0.]])"
      ]
     },
     "execution_count": 87,
     "metadata": {},
     "output_type": "execute_result"
    }
   ],
   "source": [
    "np.zeros((2,4))"
   ]
  },
  {
   "cell_type": "code",
   "execution_count": 88,
   "metadata": {},
   "outputs": [
    {
     "data": {
      "text/plain": [
       "array([[1., 1., 1., 1.],\n",
       "       [1., 1., 1., 1.]])"
      ]
     },
     "execution_count": 88,
     "metadata": {},
     "output_type": "execute_result"
    }
   ],
   "source": [
    "np.ones((2, 4))"
   ]
  },
  {
   "cell_type": "code",
   "execution_count": 89,
   "metadata": {},
   "outputs": [
    {
     "data": {
      "text/plain": [
       "tensor([[1., 0., 0.],\n",
       "        [0., 1., 0.],\n",
       "        [0., 0., 1.]])"
      ]
     },
     "execution_count": 89,
     "metadata": {},
     "output_type": "execute_result"
    }
   ],
   "source": [
    "torch.eye(3)"
   ]
  },
  {
   "cell_type": "code",
   "execution_count": 90,
   "metadata": {},
   "outputs": [
    {
     "data": {
      "text/plain": [
       "array([[0.07080288, 0.81506401, 0.76790496, 0.2863545 ],\n",
       "       [0.19309431, 0.97891221, 0.40622871, 0.75776787]])"
      ]
     },
     "execution_count": 90,
     "metadata": {},
     "output_type": "execute_result"
    }
   ],
   "source": [
    "np.random.rand(2, 4)"
   ]
  },
  {
   "cell_type": "code",
   "execution_count": 91,
   "metadata": {},
   "outputs": [
    {
     "data": {
      "text/plain": [
       "tensor([[0.1255, 0.5377, 0.6564, 0.0365],\n",
       "        [0.5837, 0.7018, 0.3068, 0.9500]])"
      ]
     },
     "execution_count": 91,
     "metadata": {},
     "output_type": "execute_result"
    }
   ],
   "source": [
    "torch.rand(2, 4)"
   ]
  },
  {
   "cell_type": "markdown",
   "metadata": {},
   "source": [
    "Other utilities that we will use in the labs are the ```arange``` method that gives a range of values:"
   ]
  },
  {
   "cell_type": "code",
   "execution_count": 92,
   "metadata": {},
   "outputs": [
    {
     "data": {
      "text/plain": [
       "array([0, 2, 4, 6, 8])"
      ]
     },
     "execution_count": 92,
     "metadata": {},
     "output_type": "execute_result"
    }
   ],
   "source": [
    "np.arange(0, 10, 2) # start, end, step\n"
   ]
  },
  {
   "cell_type": "markdown",
   "metadata": {},
   "source": [
    "# Batch operations\n",
    "\n",
    "To handle large amounts of data, we often _batch_ operations (during training of neural networks). We can apply the same multiplication to many matrices at the same time using a batch.\n",
    "\n",
    "For example, we have a matrix $W = [0.5, 0.25]$ and 3 $(2 \\times 1)$ $x_i$ matrices that we want to multiply with the matrix $W$, $y_i = Wx_i$: "
   ]
  },
  {
   "cell_type": "code",
   "execution_count": 93,
   "metadata": {},
   "outputs": [
    {
     "data": {
      "text/plain": [
       "(3, 2, 1)"
      ]
     },
     "execution_count": 93,
     "metadata": {},
     "output_type": "execute_result"
    }
   ],
   "source": [
    "W = np.array([[0.5, 0.25]]) # 1x2 matrix\n",
    "x1 = np.array([[1], [0]])\n",
    "x2 = np.array([[0], [1]])\n",
    "x3 = np.array([[1], [1]])\n",
    "X = np.array([x1, x2, x3])\n",
    "X.shape \n"
   ]
  },
  {
   "cell_type": "code",
   "execution_count": 94,
   "metadata": {},
   "outputs": [
    {
     "data": {
      "text/plain": [
       "array([[[0.5 ],\n",
       "        [0.25],\n",
       "        [0.75]]])"
      ]
     },
     "execution_count": 94,
     "metadata": {},
     "output_type": "execute_result"
    }
   ],
   "source": [
    "\n",
    "y = np.dot(W, X)  \n",
    "y\n",
    "\n"
   ]
  },
  {
   "cell_type": "markdown",
   "metadata": {},
   "source": [
    "## Short comment on neural networks"
   ]
  },
  {
   "cell_type": "code",
   "execution_count": 95,
   "metadata": {},
   "outputs": [],
   "source": [
    "from keras.datasets import mnist\n",
    "(train_images, train_labels), (test_images, test_labels) = mnist.load_data()"
   ]
  },
  {
   "cell_type": "code",
   "execution_count": 96,
   "metadata": {},
   "outputs": [
    {
     "data": {
      "text/plain": [
       "(28, 28)"
      ]
     },
     "execution_count": 96,
     "metadata": {},
     "output_type": "execute_result"
    }
   ],
   "source": [
    "train_images[0].shape"
   ]
  },
  {
   "cell_type": "code",
   "execution_count": 97,
   "metadata": {},
   "outputs": [
    {
     "data": {
      "text/plain": [
       "array([[  0,   0,   0,   0,   0,   0,   0,   0,   0,   0,   0,   0,   0,\n",
       "          0,   0,   0,   0,   0,   0,   0,   0,   0,   0,   0,   0,   0,\n",
       "          0,   0],\n",
       "       [  0,   0,   0,   0,   0,   0,   0,   0,   0,   0,   0,   0,   0,\n",
       "          0,   0,   0,   0,   0,   0,   0,   0,   0,   0,   0,   0,   0,\n",
       "          0,   0],\n",
       "       [  0,   0,   0,   0,   0,   0,   0,   0,   0,   0,   0,   0,   0,\n",
       "          0,   0,   0,   0,   0,   0,   0,   0,   0,   0,   0,   0,   0,\n",
       "          0,   0],\n",
       "       [  0,   0,   0,   0,   0,   0,   0,   0,   0,   0,   0,   0,   0,\n",
       "          0,   0,   0,   0,   0,   0,   0,   0,   0,   0,   0,   0,   0,\n",
       "          0,   0],\n",
       "       [  0,   0,   0,   0,   0,   0,   0,   0,   0,   0,   0,   0,   0,\n",
       "          0,   0,   0,   0,   0,   0,   0,   0,   0,   0,   0,   0,   0,\n",
       "          0,   0],\n",
       "       [  0,   0,   0,   0,   0,   0,   0,   0,   0,   0,   0,   0,   3,\n",
       "         18,  18,  18, 126, 136, 175,  26, 166, 255, 247, 127,   0,   0,\n",
       "          0,   0],\n",
       "       [  0,   0,   0,   0,   0,   0,   0,   0,  30,  36,  94, 154, 170,\n",
       "        253, 253, 253, 253, 253, 225, 172, 253, 242, 195,  64,   0,   0,\n",
       "          0,   0],\n",
       "       [  0,   0,   0,   0,   0,   0,   0,  49, 238, 253, 253, 253, 253,\n",
       "        253, 253, 253, 253, 251,  93,  82,  82,  56,  39,   0,   0,   0,\n",
       "          0,   0],\n",
       "       [  0,   0,   0,   0,   0,   0,   0,  18, 219, 253, 253, 253, 253,\n",
       "        253, 198, 182, 247, 241,   0,   0,   0,   0,   0,   0,   0,   0,\n",
       "          0,   0],\n",
       "       [  0,   0,   0,   0,   0,   0,   0,   0,  80, 156, 107, 253, 253,\n",
       "        205,  11,   0,  43, 154,   0,   0,   0,   0,   0,   0,   0,   0,\n",
       "          0,   0],\n",
       "       [  0,   0,   0,   0,   0,   0,   0,   0,   0,  14,   1, 154, 253,\n",
       "         90,   0,   0,   0,   0,   0,   0,   0,   0,   0,   0,   0,   0,\n",
       "          0,   0],\n",
       "       [  0,   0,   0,   0,   0,   0,   0,   0,   0,   0,   0, 139, 253,\n",
       "        190,   2,   0,   0,   0,   0,   0,   0,   0,   0,   0,   0,   0,\n",
       "          0,   0],\n",
       "       [  0,   0,   0,   0,   0,   0,   0,   0,   0,   0,   0,  11, 190,\n",
       "        253,  70,   0,   0,   0,   0,   0,   0,   0,   0,   0,   0,   0,\n",
       "          0,   0],\n",
       "       [  0,   0,   0,   0,   0,   0,   0,   0,   0,   0,   0,   0,  35,\n",
       "        241, 225, 160, 108,   1,   0,   0,   0,   0,   0,   0,   0,   0,\n",
       "          0,   0],\n",
       "       [  0,   0,   0,   0,   0,   0,   0,   0,   0,   0,   0,   0,   0,\n",
       "         81, 240, 253, 253, 119,  25,   0,   0,   0,   0,   0,   0,   0,\n",
       "          0,   0],\n",
       "       [  0,   0,   0,   0,   0,   0,   0,   0,   0,   0,   0,   0,   0,\n",
       "          0,  45, 186, 253, 253, 150,  27,   0,   0,   0,   0,   0,   0,\n",
       "          0,   0],\n",
       "       [  0,   0,   0,   0,   0,   0,   0,   0,   0,   0,   0,   0,   0,\n",
       "          0,   0,  16,  93, 252, 253, 187,   0,   0,   0,   0,   0,   0,\n",
       "          0,   0],\n",
       "       [  0,   0,   0,   0,   0,   0,   0,   0,   0,   0,   0,   0,   0,\n",
       "          0,   0,   0,   0, 249, 253, 249,  64,   0,   0,   0,   0,   0,\n",
       "          0,   0],\n",
       "       [  0,   0,   0,   0,   0,   0,   0,   0,   0,   0,   0,   0,   0,\n",
       "          0,  46, 130, 183, 253, 253, 207,   2,   0,   0,   0,   0,   0,\n",
       "          0,   0],\n",
       "       [  0,   0,   0,   0,   0,   0,   0,   0,   0,   0,   0,   0,  39,\n",
       "        148, 229, 253, 253, 253, 250, 182,   0,   0,   0,   0,   0,   0,\n",
       "          0,   0],\n",
       "       [  0,   0,   0,   0,   0,   0,   0,   0,   0,   0,  24, 114, 221,\n",
       "        253, 253, 253, 253, 201,  78,   0,   0,   0,   0,   0,   0,   0,\n",
       "          0,   0],\n",
       "       [  0,   0,   0,   0,   0,   0,   0,   0,  23,  66, 213, 253, 253,\n",
       "        253, 253, 198,  81,   2,   0,   0,   0,   0,   0,   0,   0,   0,\n",
       "          0,   0],\n",
       "       [  0,   0,   0,   0,   0,   0,  18, 171, 219, 253, 253, 253, 253,\n",
       "        195,  80,   9,   0,   0,   0,   0,   0,   0,   0,   0,   0,   0,\n",
       "          0,   0],\n",
       "       [  0,   0,   0,   0,  55, 172, 226, 253, 253, 253, 253, 244, 133,\n",
       "         11,   0,   0,   0,   0,   0,   0,   0,   0,   0,   0,   0,   0,\n",
       "          0,   0],\n",
       "       [  0,   0,   0,   0, 136, 253, 253, 253, 212, 135, 132,  16,   0,\n",
       "          0,   0,   0,   0,   0,   0,   0,   0,   0,   0,   0,   0,   0,\n",
       "          0,   0],\n",
       "       [  0,   0,   0,   0,   0,   0,   0,   0,   0,   0,   0,   0,   0,\n",
       "          0,   0,   0,   0,   0,   0,   0,   0,   0,   0,   0,   0,   0,\n",
       "          0,   0],\n",
       "       [  0,   0,   0,   0,   0,   0,   0,   0,   0,   0,   0,   0,   0,\n",
       "          0,   0,   0,   0,   0,   0,   0,   0,   0,   0,   0,   0,   0,\n",
       "          0,   0],\n",
       "       [  0,   0,   0,   0,   0,   0,   0,   0,   0,   0,   0,   0,   0,\n",
       "          0,   0,   0,   0,   0,   0,   0,   0,   0,   0,   0,   0,   0,\n",
       "          0,   0]], dtype=uint8)"
      ]
     },
     "execution_count": 97,
     "metadata": {},
     "output_type": "execute_result"
    }
   ],
   "source": [
    "train_images[0]"
   ]
  },
  {
   "cell_type": "code",
   "execution_count": 98,
   "metadata": {},
   "outputs": [
    {
     "data": {
      "text/plain": [
       "<matplotlib.image.AxesImage at 0x17f8ae000>"
      ]
     },
     "execution_count": 98,
     "metadata": {},
     "output_type": "execute_result"
    },
    {
     "data": {
      "image/png": "[encoded data removed]",
      "text/plain": [
       "<Figure size 640x480 with 1 Axes>"
      ]
     },
     "metadata": {},
     "output_type": "display_data"
    }
   ],
   "source": [
    "plt.figure()\n",
    "plt.imshow(train_images[0]/255, cmap='gray')"
   ]
  },
  {
   "cell_type": "markdown",
   "metadata": {},
   "source": [
    "As you can see, the y-axis points down.\n",
    "\n",
    "We create an image from the matrix with the mathematical conventions for coordinates."
   ]
  },
  {
   "cell_type": "code",
   "execution_count": 99,
   "metadata": {},
   "outputs": [],
   "source": [
    "gray_image = np.zeros(train_images[0].shape)\n",
    "for x in np.arange(train_images[0].shape[0]):\n",
    "    for y in np.arange(train_images[0].shape[1]):\n",
    "        gray_image[x, y] = train_images[0].T[x, \n",
    "                          train_images[0].shape[1] - 1 - y]\n"
   ]
  },
  {
   "cell_type": "markdown",
   "metadata": {},
   "source": [
    "We generate all the point coordinates"
   ]
  },
  {
   "cell_type": "code",
   "execution_count": 100,
   "metadata": {},
   "outputs": [],
   "source": [
    "im_coord = []\n",
    "for x in np.arange(gray_image.shape[0]):\n",
    "    for y in np.arange(gray_image.shape[1]):\n",
    "        im_coord += [[x, y]]\n",
    "im_coord = np.array(im_coord).T"
   ]
  },
  {
   "cell_type": "code",
   "execution_count": 101,
   "metadata": {},
   "outputs": [
    {
     "data": {
      "text/plain": [
       "array([[ 0,  0,  0, ..., 27, 27, 27],\n",
       "       [ 0,  1,  2, ..., 25, 26, 27]])"
      ]
     },
     "execution_count": 101,
     "metadata": {},
     "output_type": "execute_result"
    }
   ],
   "source": [
    "im_coord"
   ]
  },
  {
   "cell_type": "markdown",
   "metadata": {},
   "source": [
    "The original image with these coordinates"
   ]
  },
  {
   "cell_type": "code",
   "execution_count": 102,
   "metadata": {},
   "outputs": [
    {
     "data": {
      "text/plain": [
       "<matplotlib.collections.PathCollection at 0x17f8afa40>"
      ]
     },
     "execution_count": 102,
     "metadata": {},
     "output_type": "execute_result"
    },
    {
     "data": {
      "image/png": "[encoded data removed]",
      "text/plain": [
       "<Figure size 640x480 with 1 Axes>"
      ]
     },
     "metadata": {},
     "output_type": "display_data"
    }
   ],
   "source": [
    "plt.scatter(im_coord[0, :], im_coord[1, :],\n",
    " c=np.array(gray_image.flatten())/255, cmap='Greys', marker='s') #each pair of points will be colored according to the corresponding pixel value"
   ]
  },
  {
   "cell_type": "markdown",
   "metadata": {},
   "source": [
    "### Scaling"
   ]
  },
  {
   "cell_type": "markdown",
   "metadata": {},
   "source": [
    "We will scale the image to twice as wide and half the height."
   ]
  },
  {
   "cell_type": "code",
   "execution_count": 103,
   "metadata": {},
   "outputs": [],
   "source": [
    "scale_mat = np.array([[2, 0], \n",
    "                      [0, 0.5]]) # scale by 2 in x and 0.5 in y"
   ]
  },
  {
   "cell_type": "code",
   "execution_count": 104,
   "metadata": {},
   "outputs": [
    {
     "data": {
      "text/plain": [
       "array([[ 0. ,  0. ,  0. , ..., 54. , 54. , 54. ],\n",
       "       [ 0. ,  0.5,  1. , ..., 12.5, 13. , 13.5]])"
      ]
     },
     "execution_count": 104,
     "metadata": {},
     "output_type": "execute_result"
    }
   ],
   "source": [
    "transformed = scale_mat @ im_coord\n",
    "transformed"
   ]
  },
  {
   "cell_type": "code",
   "execution_count": 105,
   "metadata": {},
   "outputs": [
    {
     "data": {
      "text/plain": [
       "<matplotlib.collections.PathCollection at 0x17f936f60>"
      ]
     },
     "execution_count": 105,
     "metadata": {},
     "output_type": "execute_result"
    },
    {
     "data": {
      "image/png": "[encoded data removed]",
      "text/plain": [
       "<Figure size 640x480 with 1 Axes>"
      ]
     },
     "metadata": {},
     "output_type": "display_data"
    }
   ],
   "source": [
    "plt.scatter(transformed[0, :], transformed[1, :],\n",
    " c=np.array(gray_image.flatten())/255, cmap='Greys', marker='s')"
   ]
  },
  {
   "cell_type": "markdown",
   "metadata": {},
   "source": [
    "### Rotating"
   ]
  },
  {
   "cell_type": "code",
   "execution_count": 106,
   "metadata": {},
   "outputs": [],
   "source": [
    "transformed = rot_mat_30 @ im_coord"
   ]
  },
  {
   "cell_type": "code",
   "execution_count": 107,
   "metadata": {},
   "outputs": [
    {
     "data": {
      "text/plain": [
       "<matplotlib.collections.PathCollection at 0x17f76dbb0>"
      ]
     },
     "execution_count": 107,
     "metadata": {},
     "output_type": "execute_result"
    },
    {
     "data": {
      "image/png": "[encoded data removed]",
      "text/plain": [
       "<Figure size 640x480 with 1 Axes>"
      ]
     },
     "metadata": {},
     "output_type": "display_data"
    }
   ],
   "source": [
    "plt.scatter(transformed[0, :], transformed[1, :],\n",
    " c=np.array(gray_image.flatten())/255, cmap='Greys', marker='s')"
   ]
  },
  {
   "cell_type": "markdown",
   "metadata": {},
   "source": [
    "We can scale and then rotate."
   ]
  },
  {
   "cell_type": "code",
   "execution_count": 108,
   "metadata": {},
   "outputs": [],
   "source": [
    "transformed =  rot_mat_30 @  scale_mat @ im_coord"
   ]
  },
  {
   "cell_type": "code",
   "execution_count": 109,
   "metadata": {},
   "outputs": [
    {
     "data": {
      "text/plain": [
       "<matplotlib.collections.PathCollection at 0x17fa78bc0>"
      ]
     },
     "execution_count": 109,
     "metadata": {},
     "output_type": "execute_result"
    },
    {
     "data": {
      "image/png": "[encoded data removed]",
      "text/plain": [
       "<Figure size 640x480 with 1 Axes>"
      ]
     },
     "metadata": {},
     "output_type": "display_data"
    }
   ],
   "source": [
    "plt.scatter(transformed[0, :], transformed[1, :],\n",
    " c=np.array(gray_image.flatten())/255, cmap='Greys', marker='s')"
   ]
  },
  {
   "cell_type": "markdown",
   "metadata": {},
   "source": [
    "We can also add a matrix (bias) $b$\n",
    "\n",
    "$\\mathbf{W}\\mathbf{x} + \\mathbf{b}$"
   ]
  },
  {
   "cell_type": "code",
   "execution_count": 110,
   "metadata": {},
   "outputs": [],
   "source": [
    "transformed = (rot_mat_45 @ rot_mat_30 @ \n",
    "scale_mat @ im_coord + np.array([[-20, -20]]).T)"
   ]
  },
  {
   "cell_type": "code",
   "execution_count": 111,
   "metadata": {},
   "outputs": [
    {
     "data": {
      "text/plain": [
       "<matplotlib.collections.PathCollection at 0x17fb1fd70>"
      ]
     },
     "execution_count": 111,
     "metadata": {},
     "output_type": "execute_result"
    },
    {
     "data": {
      "image/png": "[encoded data removed]",
      "text/plain": [
       "<Figure size 640x480 with 1 Axes>"
      ]
     },
     "metadata": {},
     "output_type": "display_data"
    }
   ],
   "source": [
    "plt.scatter(transformed[0, :], transformed[1, :],\n",
    " c=np.array(gray_image.flatten())/255, cmap='Greys', marker='s')"
   ]
  },
  {
   "cell_type": "markdown",
   "metadata": {},
   "source": [
    "### Nonlinearity"
   ]
  },
  {
   "cell_type": "markdown",
   "metadata": {},
   "source": [
    "We can cap the values of the gray_image:"
   ]
  },
  {
   "cell_type": "code",
   "execution_count": 112,
   "metadata": {},
   "outputs": [],
   "source": [
    "gray_image = np.maximum(128, gray_image)"
   ]
  },
  {
   "cell_type": "code",
   "execution_count": 113,
   "metadata": {},
   "outputs": [
    {
     "data": {
      "text/plain": [
       "<matplotlib.collections.PathCollection at 0x17f80f6b0>"
      ]
     },
     "execution_count": 113,
     "metadata": {},
     "output_type": "execute_result"
    },
    {
     "data": {
      "image/png": "[encoded data removed]",
      "text/plain": [
       "<Figure size 640x480 with 1 Axes>"
      ]
     },
     "metadata": {},
     "output_type": "display_data"
    }
   ],
   "source": [
    "plt.scatter(transformed[0, :], transformed[1, :],\n",
    " c=np.array(gray_image.flatten())/255, cmap='Greys', marker='s')"
   ]
  },
  {
   "cell_type": "markdown",
   "metadata": {},
   "source": [
    "## Matrices and Neural Nets"
   ]
  },
  {
   "cell_type": "markdown",
   "metadata": {},
   "source": [
    "In the following examples we will work with a small fully connected neural network as shown in the image.\n",
    "\n",
    "<img src=nn.png alt=\"A small neural network\"/>"
   ]
  },
  {
   "cell_type": "markdown",
   "metadata": {},
   "source": [
    "### Applying Transformations in Neural Networks\n",
    "In neural networks, every edge in the network has a weight. In every node, the input $z_i^{(L)}$ is the weighted sum of the outputs from the previous layer: $z_i^{(2)} = \\sum_i w_{ij} a_j^{(1)} + b_i$. $b_i$ is the intercept or bias. \n",
    "\n",
    "This can be written in matrix form with all the weights in the matrix $W$ and the bias in a (column) vector $b$: $W x + b$\n",
    "\n",
    "The output from a node $a_i^{(L)}$ is calculated using an activation function $a_i^{(L)} = g(z_i^{(L)})$. Because functions are element-wise, the all the outputs from one layer can be calculated in matrix form too: $a = g(W x + b)$.\n",
    "\n",
    "The activation function can be linear or nonlinear. A popular linear activation function is the logistic function:\n",
    "\n"
   ]
  },
  {
   "cell_type": "code",
   "execution_count": 114,
   "metadata": {},
   "outputs": [
    {
     "data": {
      "image/png": "[encoded data removed]",
      "text/plain": [
       "<Figure size 640x480 with 1 Axes>"
      ]
     },
     "metadata": {},
     "output_type": "display_data"
    }
   ],
   "source": [
    "# This is what the logistic function looks like\n",
    "\n",
    "\n",
    "# Define the logistic function\n",
    "def logistic(x):\n",
    "    return 1 / (1 + np.exp(-x))\n",
    "\n",
    "# Generate x values from -10 to 10\n",
    "x = np.linspace(-10, 10, 500)\n",
    "# Compute y values using the logistic function\n",
    "y = logistic(x)\n",
    "\n",
    "# Plot the logistic function\n",
    "plt.plot(x, y, label=\"Logistic Function\")\n",
    "plt.xlabel(\"x\")\n",
    "plt.ylabel(\"f(x)\")\n",
    "plt.title(\"Logistic Function Plot\")\n",
    "plt.grid(True)\n",
    "plt.legend()\n",
    "plt.show()"
   ]
  },
  {
   "cell_type": "markdown",
   "metadata": {},
   "source": [
    "A popular nonlinear activation function is the $g = max(0,x)$, which is called relu(x)."
   ]
  },
  {
   "cell_type": "code",
   "execution_count": 115,
   "metadata": {},
   "outputs": [
    {
     "data": {
      "image/png": "[encoded data removed]",
      "text/plain": [
       "<Figure size 640x480 with 1 Axes>"
      ]
     },
     "metadata": {},
     "output_type": "display_data"
    }
   ],
   "source": [
    "# This is what the relu function looks like\n",
    "\n",
    "def relu(x):\n",
    "    return np.maximum(0, x)\n",
    "\n",
    "# Generate x values from -10 to 10\n",
    "x = np.linspace(-10, 10, 500)\n",
    "# Compute y values using the relu function\n",
    "y = relu(x)\n",
    "\n",
    "# Plot the function\n",
    "plt.plot(x, y, label=\"Relu Function\")\n",
    "plt.xlabel(\"x\")\n",
    "plt.ylabel(\"f(x)\")\n",
    "plt.title(\"Relu Function Plot\")\n",
    "plt.grid(True)\n",
    "plt.legend()\n",
    "plt.show()"
   ]
  },
  {
   "cell_type": "markdown",
   "metadata": {},
   "source": [
    "### Neural networks: One layer"
   ]
  },
  {
   "cell_type": "markdown",
   "metadata": {},
   "source": [
    "### Keras"
   ]
  },
  {
   "cell_type": "markdown",
   "metadata": {},
   "source": [
    "In keras, we can define the neural network layer by layer. The first fully connected (dense) layer has 3 input nodes (the input layer), and 4 nodes. It does not use a bias term (the $b$ in $Wx + b$). The weights $W$ in the network will be initialized with small random values."
   ]
  },
  {
   "cell_type": "code",
   "execution_count": 116,
   "metadata": {},
   "outputs": [
    {
     "name": "stderr",
     "output_type": "stream",
     "text": [
      "/Library/Frameworks/Python.framework/Versions/3.12/lib/python3.12/site-packages/keras/src/layers/core/dense.py:87: UserWarning: Do not pass an `input_shape`/`input_dim` argument to a layer. When using Sequential models, prefer using an `Input(shape)` object as the first layer in the model instead.\n",
      "  super().__init__(activity_regularizer=activity_regularizer, **kwargs)\n"
     ]
    }
   ],
   "source": [
    "layer1_k = keras.Sequential([\n",
    "    layers.Dense(4, input_dim=3, use_bias=False)\n",
    "    ])"
   ]
  },
  {
   "cell_type": "code",
   "execution_count": 117,
   "metadata": {},
   "outputs": [
    {
     "data": {
      "text/plain": [
       "[<KerasVariable shape=(3, 4), dtype=float32, path=sequential/dense/kernel>]"
      ]
     },
     "execution_count": 117,
     "metadata": {},
     "output_type": "execute_result"
    }
   ],
   "source": [
    "layer1_k.weights"
   ]
  },
  {
   "cell_type": "markdown",
   "metadata": {},
   "source": [
    "We create an input vector ```x_np```"
   ]
  },
  {
   "cell_type": "code",
   "execution_count": 118,
   "metadata": {},
   "outputs": [],
   "source": [
    "x_np = np.array([[1, 2, 3]])"
   ]
  },
  {
   "cell_type": "markdown",
   "metadata": {},
   "source": [
    "And \"send\" the values through the first layer in the network:"
   ]
  },
  {
   "cell_type": "code",
   "execution_count": 119,
   "metadata": {},
   "outputs": [
    {
     "data": {
      "text/plain": [
       "<tf.Tensor: shape=(1, 4), dtype=float32, numpy=array([[-2.0769851,  0.552669 ,  3.8447833, -0.7915982]], dtype=float32)>"
      ]
     },
     "execution_count": 119,
     "metadata": {},
     "output_type": "execute_result"
    }
   ],
   "source": [
    "layer1_k(x_np)"
   ]
  },
  {
   "cell_type": "markdown",
   "metadata": {},
   "source": [
    "Compare this with a matrix multiplication (note the order of the multiplication, and the dimensions of the vector and matrix): "
   ]
  },
  {
   "cell_type": "code",
   "execution_count": 120,
   "metadata": {},
   "outputs": [
    {
     "data": {
      "text/plain": [
       "array([[-2.07698506,  0.55266899,  3.84478331, -0.79159826]])"
      ]
     },
     "execution_count": 120,
     "metadata": {},
     "output_type": "execute_result"
    }
   ],
   "source": [
    "x_np @ layer1_k.weights[0]"
   ]
  },
  {
   "cell_type": "markdown",
   "metadata": {},
   "source": [
    "### PyTorch"
   ]
  },
  {
   "cell_type": "markdown",
   "metadata": {},
   "source": [
    "In PyTorch, the first layer is defined similarly:"
   ]
  },
  {
   "cell_type": "code",
   "execution_count": 121,
   "metadata": {},
   "outputs": [],
   "source": [
    "layer1_t = torch.nn.Linear(3, 4, bias=False) # 3 inputs, 4 outputs, no bias"
   ]
  },
  {
   "cell_type": "code",
   "execution_count": 122,
   "metadata": {},
   "outputs": [
    {
     "data": {
      "text/plain": [
       "Parameter containing:\n",
       "tensor([[-0.0784, -0.2372,  0.1172],\n",
       "        [-0.3739,  0.5711, -0.2106],\n",
       "        [ 0.5642, -0.1257,  0.3728],\n",
       "        [-0.4489, -0.1961, -0.0592]], requires_grad=True)"
      ]
     },
     "execution_count": 122,
     "metadata": {},
     "output_type": "execute_result"
    }
   ],
   "source": [
    "layer1_t.weight"
   ]
  },
  {
   "cell_type": "code",
   "execution_count": 123,
   "metadata": {},
   "outputs": [],
   "source": [
    "x_t = torch.tensor([1.0, 2.0, 3.0])"
   ]
  },
  {
   "cell_type": "code",
   "execution_count": 124,
   "metadata": {},
   "outputs": [
    {
     "data": {
      "text/plain": [
       "tensor([-0.2010,  0.1365,  1.4311, -1.0188], grad_fn=<SqueezeBackward4>)"
      ]
     },
     "execution_count": 124,
     "metadata": {},
     "output_type": "execute_result"
    }
   ],
   "source": [
    "layer1_t(x_t)"
   ]
  },
  {
   "cell_type": "markdown",
   "metadata": {},
   "source": [
    "Compare this with a matrix multiplication (note the order of the multiplication, and the dimensions of the vector and matrix): \n"
   ]
  },
  {
   "cell_type": "code",
   "execution_count": 125,
   "metadata": {},
   "outputs": [
    {
     "data": {
      "text/plain": [
       "tensor([-0.2010,  0.1365,  1.4311, -1.0188], grad_fn=<MvBackward0>)"
      ]
     },
     "execution_count": 125,
     "metadata": {},
     "output_type": "execute_result"
    }
   ],
   "source": [
    "layer1_t.weight @ x_t"
   ]
  },
  {
   "cell_type": "markdown",
   "metadata": {},
   "source": [
    "Or see: https://pytorch.org/docs/stable/generated/torch.nn.Linear.html"
   ]
  },
  {
   "cell_type": "code",
   "execution_count": 126,
   "metadata": {},
   "outputs": [
    {
     "data": {
      "text/plain": [
       "tensor([-0.2010,  0.1365,  1.4311, -1.0188], grad_fn=<SqueezeBackward4>)"
      ]
     },
     "execution_count": 126,
     "metadata": {},
     "output_type": "execute_result"
    }
   ],
   "source": [
    "x_t @ layer1_t.weight.T"
   ]
  },
  {
   "cell_type": "markdown",
   "metadata": {},
   "source": [
    "### Neural Networks: More Layers"
   ]
  },
  {
   "cell_type": "markdown",
   "metadata": {},
   "source": [
    "Now, we will add all the layers in the example network in sequence. "
   ]
  },
  {
   "cell_type": "markdown",
   "metadata": {},
   "source": [
    "### Keras"
   ]
  },
  {
   "cell_type": "code",
   "execution_count": 127,
   "metadata": {},
   "outputs": [],
   "source": [
    "nn_k = keras.Sequential([\n",
    "    layers.Dense(4, input_dim=3, use_bias=False),\n",
    "    layers.Dense(2, use_bias=False),\n",
    "    layers.Dense(1, use_bias=False)\n",
    "    ])"
   ]
  },
  {
   "cell_type": "code",
   "execution_count": 128,
   "metadata": {},
   "outputs": [
    {
     "data": {
      "text/plain": [
       "[<KerasVariable shape=(3, 4), dtype=float32, path=sequential_1/dense_1/kernel>,\n",
       " <KerasVariable shape=(4, 2), dtype=float32, path=sequential_1/dense_2/kernel>,\n",
       " <KerasVariable shape=(2, 1), dtype=float32, path=sequential_1/dense_3/kernel>]"
      ]
     },
     "execution_count": 128,
     "metadata": {},
     "output_type": "execute_result"
    }
   ],
   "source": [
    "nn_k.weights"
   ]
  },
  {
   "cell_type": "code",
   "execution_count": 129,
   "metadata": {},
   "outputs": [
    {
     "data": {
      "text/plain": [
       "<tf.Tensor: shape=(1, 1), dtype=float32, numpy=array([[-1.8862994]], dtype=float32)>"
      ]
     },
     "execution_count": 129,
     "metadata": {},
     "output_type": "execute_result"
    }
   ],
   "source": [
    "nn_k(x_np)"
   ]
  },
  {
   "cell_type": "code",
   "execution_count": 130,
   "metadata": {},
   "outputs": [
    {
     "data": {
      "text/plain": [
       "array([[-1.88629913]])"
      ]
     },
     "execution_count": 130,
     "metadata": {},
     "output_type": "execute_result"
    }
   ],
   "source": [
    "x_np @ nn_k.weights[0] @ nn_k.weights[1] @ nn_k.weights[2]"
   ]
  },
  {
   "cell_type": "markdown",
   "metadata": {},
   "source": [
    "### PyTorch"
   ]
  },
  {
   "cell_type": "code",
   "execution_count": 131,
   "metadata": {},
   "outputs": [],
   "source": [
    "layer1_t = torch.nn.Linear(3, 4, bias=False)\n",
    "layer2_t = torch.nn.Linear(4, 2, bias=False)\n",
    "layer3_t = torch.nn.Linear(2, 1, bias=False)"
   ]
  },
  {
   "cell_type": "code",
   "execution_count": 132,
   "metadata": {},
   "outputs": [
    {
     "data": {
      "text/plain": [
       "(Parameter containing:\n",
       " tensor([[-0.0630, -0.4868,  0.2738],\n",
       "         [ 0.5165,  0.4471,  0.2988],\n",
       "         [ 0.4171, -0.1165,  0.2803],\n",
       "         [-0.2952, -0.2523, -0.2800]], requires_grad=True),\n",
       " Parameter containing:\n",
       " tensor([[-0.4971, -0.3307,  0.1820,  0.1730],\n",
       "         [-0.3764,  0.3322, -0.0077, -0.2097]], requires_grad=True),\n",
       " Parameter containing:\n",
       " tensor([[-0.2558, -0.6738]], requires_grad=True))"
      ]
     },
     "execution_count": 132,
     "metadata": {},
     "output_type": "execute_result"
    }
   ],
   "source": [
    "(layer1_t.weight, layer2_t.weight, layer3_t.weight)"
   ]
  },
  {
   "cell_type": "code",
   "execution_count": 133,
   "metadata": {},
   "outputs": [
    {
     "data": {
      "text/plain": [
       "tensor([-0.6047], grad_fn=<SqueezeBackward4>)"
      ]
     },
     "execution_count": 133,
     "metadata": {},
     "output_type": "execute_result"
    }
   ],
   "source": [
    "layer3_t(layer2_t(layer1_t(x_t)))"
   ]
  },
  {
   "cell_type": "code",
   "execution_count": 134,
   "metadata": {},
   "outputs": [
    {
     "data": {
      "text/plain": [
       "tensor([-0.6047], grad_fn=<SqueezeBackward4>)"
      ]
     },
     "execution_count": 134,
     "metadata": {},
     "output_type": "execute_result"
    }
   ],
   "source": [
    "x_t @ layer1_t.weight.T @ layer2_t.weight.T @ layer3_t.weight.T"
   ]
  },
  {
   "cell_type": "markdown",
   "metadata": {},
   "source": [
    "As you can see, the simple neural network in this example is just matrix multiplication, and when adding a bias $b$, it will be a sequence of affine transformations of the input data. However, these operations can easily be concatenated into one matrix and bias, the interesting thing happens when we add non-linearity (see the lectures on neural networks)."
   ]
  },
  {
   "cell_type": "markdown",
   "metadata": {},
   "source": [
    "## Datasets"
   ]
  },
  {
   "cell_type": "markdown",
   "metadata": {},
   "source": [
    "We will now look at a dataset with 3 different types of iris.\n",
    "\n",
    "<img src=iris.png alt=\"\"/>\n",
    "\n",
    "In statistics, observations are often arranged by rows like Fisher's Iris dataset (1936)\n",
    "\n",
    "<img src=Fisher_iris.png alt=\"\"/>"
   ]
  },
  {
   "cell_type": "markdown",
   "metadata": {},
   "source": [
    "### Matrices and datasets\n",
    "Representing the $x$ input (from one data sample) as a column vector (a one-column matrix) and $W$ denoting the weight matrix, we just have to transpose the matrix product:\n",
    "\n",
    "$(Wx)^{T} = x^TW^T = \\hat{y}$\n",
    "\n",
    "$x^T$ is now a row vector (a one-row matrix) and we can apply the product to the whole dataset $X$ yielding a column vector of predicted outputs:\n",
    "\n",
    "$XW^T = \\bold{\\hat{y}}$."
   ]
  },
  {
   "cell_type": "code",
   "execution_count": 135,
   "metadata": {},
   "outputs": [],
   "source": [
    "from sklearn.datasets import load_iris"
   ]
  },
  {
   "cell_type": "code",
   "execution_count": 136,
   "metadata": {},
   "outputs": [],
   "source": [
    "iris_dataset = load_iris()"
   ]
  },
  {
   "cell_type": "code",
   "execution_count": 137,
   "metadata": {},
   "outputs": [],
   "source": [
    "X = torch.from_numpy(iris_dataset['data']).float()\n",
    "Y = iris_dataset['target']\n"
   ]
  },
  {
   "cell_type": "code",
   "execution_count": 138,
   "metadata": {},
   "outputs": [
    {
     "data": {
      "text/plain": [
       "tensor([[5.1000, 3.5000, 1.4000, 0.2000],\n",
       "        [4.9000, 3.0000, 1.4000, 0.2000],\n",
       "        [4.7000, 3.2000, 1.3000, 0.2000],\n",
       "        [4.6000, 3.1000, 1.5000, 0.2000],\n",
       "        [5.0000, 3.6000, 1.4000, 0.2000],\n",
       "        [5.4000, 3.9000, 1.7000, 0.4000],\n",
       "        [4.6000, 3.4000, 1.4000, 0.3000],\n",
       "        [5.0000, 3.4000, 1.5000, 0.2000],\n",
       "        [4.4000, 2.9000, 1.4000, 0.2000],\n",
       "        [4.9000, 3.1000, 1.5000, 0.1000],\n",
       "        [5.4000, 3.7000, 1.5000, 0.2000],\n",
       "        [4.8000, 3.4000, 1.6000, 0.2000],\n",
       "        [4.8000, 3.0000, 1.4000, 0.1000],\n",
       "        [4.3000, 3.0000, 1.1000, 0.1000],\n",
       "        [5.8000, 4.0000, 1.2000, 0.2000],\n",
       "        [5.7000, 4.4000, 1.5000, 0.4000],\n",
       "        [5.4000, 3.9000, 1.3000, 0.4000],\n",
       "        [5.1000, 3.5000, 1.4000, 0.3000],\n",
       "        [5.7000, 3.8000, 1.7000, 0.3000],\n",
       "        [5.1000, 3.8000, 1.5000, 0.3000],\n",
       "        [5.4000, 3.4000, 1.7000, 0.2000],\n",
       "        [5.1000, 3.7000, 1.5000, 0.4000],\n",
       "        [4.6000, 3.6000, 1.0000, 0.2000],\n",
       "        [5.1000, 3.3000, 1.7000, 0.5000],\n",
       "        [4.8000, 3.4000, 1.9000, 0.2000],\n",
       "        [5.0000, 3.0000, 1.6000, 0.2000],\n",
       "        [5.0000, 3.4000, 1.6000, 0.4000],\n",
       "        [5.2000, 3.5000, 1.5000, 0.2000],\n",
       "        [5.2000, 3.4000, 1.4000, 0.2000],\n",
       "        [4.7000, 3.2000, 1.6000, 0.2000],\n",
       "        [4.8000, 3.1000, 1.6000, 0.2000],\n",
       "        [5.4000, 3.4000, 1.5000, 0.4000],\n",
       "        [5.2000, 4.1000, 1.5000, 0.1000],\n",
       "        [5.5000, 4.2000, 1.4000, 0.2000],\n",
       "        [4.9000, 3.1000, 1.5000, 0.2000],\n",
       "        [5.0000, 3.2000, 1.2000, 0.2000],\n",
       "        [5.5000, 3.5000, 1.3000, 0.2000],\n",
       "        [4.9000, 3.6000, 1.4000, 0.1000],\n",
       "        [4.4000, 3.0000, 1.3000, 0.2000],\n",
       "        [5.1000, 3.4000, 1.5000, 0.2000],\n",
       "        [5.0000, 3.5000, 1.3000, 0.3000],\n",
       "        [4.5000, 2.3000, 1.3000, 0.3000],\n",
       "        [4.4000, 3.2000, 1.3000, 0.2000],\n",
       "        [5.0000, 3.5000, 1.6000, 0.6000],\n",
       "        [5.1000, 3.8000, 1.9000, 0.4000],\n",
       "        [4.8000, 3.0000, 1.4000, 0.3000],\n",
       "        [5.1000, 3.8000, 1.6000, 0.2000],\n",
       "        [4.6000, 3.2000, 1.4000, 0.2000],\n",
       "        [5.3000, 3.7000, 1.5000, 0.2000],\n",
       "        [5.0000, 3.3000, 1.4000, 0.2000],\n",
       "        [7.0000, 3.2000, 4.7000, 1.4000],\n",
       "        [6.4000, 3.2000, 4.5000, 1.5000],\n",
       "        [6.9000, 3.1000, 4.9000, 1.5000],\n",
       "        [5.5000, 2.3000, 4.0000, 1.3000],\n",
       "        [6.5000, 2.8000, 4.6000, 1.5000],\n",
       "        [5.7000, 2.8000, 4.5000, 1.3000],\n",
       "        [6.3000, 3.3000, 4.7000, 1.6000],\n",
       "        [4.9000, 2.4000, 3.3000, 1.0000],\n",
       "        [6.6000, 2.9000, 4.6000, 1.3000],\n",
       "        [5.2000, 2.7000, 3.9000, 1.4000],\n",
       "        [5.0000, 2.0000, 3.5000, 1.0000],\n",
       "        [5.9000, 3.0000, 4.2000, 1.5000],\n",
       "        [6.0000, 2.2000, 4.0000, 1.0000],\n",
       "        [6.1000, 2.9000, 4.7000, 1.4000],\n",
       "        [5.6000, 2.9000, 3.6000, 1.3000],\n",
       "        [6.7000, 3.1000, 4.4000, 1.4000],\n",
       "        [5.6000, 3.0000, 4.5000, 1.5000],\n",
       "        [5.8000, 2.7000, 4.1000, 1.0000],\n",
       "        [6.2000, 2.2000, 4.5000, 1.5000],\n",
       "        [5.6000, 2.5000, 3.9000, 1.1000],\n",
       "        [5.9000, 3.2000, 4.8000, 1.8000],\n",
       "        [6.1000, 2.8000, 4.0000, 1.3000],\n",
       "        [6.3000, 2.5000, 4.9000, 1.5000],\n",
       "        [6.1000, 2.8000, 4.7000, 1.2000],\n",
       "        [6.4000, 2.9000, 4.3000, 1.3000],\n",
       "        [6.6000, 3.0000, 4.4000, 1.4000],\n",
       "        [6.8000, 2.8000, 4.8000, 1.4000],\n",
       "        [6.7000, 3.0000, 5.0000, 1.7000],\n",
       "        [6.0000, 2.9000, 4.5000, 1.5000],\n",
       "        [5.7000, 2.6000, 3.5000, 1.0000],\n",
       "        [5.5000, 2.4000, 3.8000, 1.1000],\n",
       "        [5.5000, 2.4000, 3.7000, 1.0000],\n",
       "        [5.8000, 2.7000, 3.9000, 1.2000],\n",
       "        [6.0000, 2.7000, 5.1000, 1.6000],\n",
       "        [5.4000, 3.0000, 4.5000, 1.5000],\n",
       "        [6.0000, 3.4000, 4.5000, 1.6000],\n",
       "        [6.7000, 3.1000, 4.7000, 1.5000],\n",
       "        [6.3000, 2.3000, 4.4000, 1.3000],\n",
       "        [5.6000, 3.0000, 4.1000, 1.3000],\n",
       "        [5.5000, 2.5000, 4.0000, 1.3000],\n",
       "        [5.5000, 2.6000, 4.4000, 1.2000],\n",
       "        [6.1000, 3.0000, 4.6000, 1.4000],\n",
       "        [5.8000, 2.6000, 4.0000, 1.2000],\n",
       "        [5.0000, 2.3000, 3.3000, 1.0000],\n",
       "        [5.6000, 2.7000, 4.2000, 1.3000],\n",
       "        [5.7000, 3.0000, 4.2000, 1.2000],\n",
       "        [5.7000, 2.9000, 4.2000, 1.3000],\n",
       "        [6.2000, 2.9000, 4.3000, 1.3000],\n",
       "        [5.1000, 2.5000, 3.0000, 1.1000],\n",
       "        [5.7000, 2.8000, 4.1000, 1.3000],\n",
       "        [6.3000, 3.3000, 6.0000, 2.5000],\n",
       "        [5.8000, 2.7000, 5.1000, 1.9000],\n",
       "        [7.1000, 3.0000, 5.9000, 2.1000],\n",
       "        [6.3000, 2.9000, 5.6000, 1.8000],\n",
       "        [6.5000, 3.0000, 5.8000, 2.2000],\n",
       "        [7.6000, 3.0000, 6.6000, 2.1000],\n",
       "        [4.9000, 2.5000, 4.5000, 1.7000],\n",
       "        [7.3000, 2.9000, 6.3000, 1.8000],\n",
       "        [6.7000, 2.5000, 5.8000, 1.8000],\n",
       "        [7.2000, 3.6000, 6.1000, 2.5000],\n",
       "        [6.5000, 3.2000, 5.1000, 2.0000],\n",
       "        [6.4000, 2.7000, 5.3000, 1.9000],\n",
       "        [6.8000, 3.0000, 5.5000, 2.1000],\n",
       "        [5.7000, 2.5000, 5.0000, 2.0000],\n",
       "        [5.8000, 2.8000, 5.1000, 2.4000],\n",
       "        [6.4000, 3.2000, 5.3000, 2.3000],\n",
       "        [6.5000, 3.0000, 5.5000, 1.8000],\n",
       "        [7.7000, 3.8000, 6.7000, 2.2000],\n",
       "        [7.7000, 2.6000, 6.9000, 2.3000],\n",
       "        [6.0000, 2.2000, 5.0000, 1.5000],\n",
       "        [6.9000, 3.2000, 5.7000, 2.3000],\n",
       "        [5.6000, 2.8000, 4.9000, 2.0000],\n",
       "        [7.7000, 2.8000, 6.7000, 2.0000],\n",
       "        [6.3000, 2.7000, 4.9000, 1.8000],\n",
       "        [6.7000, 3.3000, 5.7000, 2.1000],\n",
       "        [7.2000, 3.2000, 6.0000, 1.8000],\n",
       "        [6.2000, 2.8000, 4.8000, 1.8000],\n",
       "        [6.1000, 3.0000, 4.9000, 1.8000],\n",
       "        [6.4000, 2.8000, 5.6000, 2.1000],\n",
       "        [7.2000, 3.0000, 5.8000, 1.6000],\n",
       "        [7.4000, 2.8000, 6.1000, 1.9000],\n",
       "        [7.9000, 3.8000, 6.4000, 2.0000],\n",
       "        [6.4000, 2.8000, 5.6000, 2.2000],\n",
       "        [6.3000, 2.8000, 5.1000, 1.5000],\n",
       "        [6.1000, 2.6000, 5.6000, 1.4000],\n",
       "        [7.7000, 3.0000, 6.1000, 2.3000],\n",
       "        [6.3000, 3.4000, 5.6000, 2.4000],\n",
       "        [6.4000, 3.1000, 5.5000, 1.8000],\n",
       "        [6.0000, 3.0000, 4.8000, 1.8000],\n",
       "        [6.9000, 3.1000, 5.4000, 2.1000],\n",
       "        [6.7000, 3.1000, 5.6000, 2.4000],\n",
       "        [6.9000, 3.1000, 5.1000, 2.3000],\n",
       "        [5.8000, 2.7000, 5.1000, 1.9000],\n",
       "        [6.8000, 3.2000, 5.9000, 2.3000],\n",
       "        [6.7000, 3.3000, 5.7000, 2.5000],\n",
       "        [6.7000, 3.0000, 5.2000, 2.3000],\n",
       "        [6.3000, 2.5000, 5.0000, 1.9000],\n",
       "        [6.5000, 3.0000, 5.2000, 2.0000],\n",
       "        [6.2000, 3.4000, 5.4000, 2.3000],\n",
       "        [5.9000, 3.0000, 5.1000, 1.8000]])"
      ]
     },
     "execution_count": 138,
     "metadata": {},
     "output_type": "execute_result"
    }
   ],
   "source": [
    "X"
   ]
  },
  {
   "cell_type": "code",
   "execution_count": 139,
   "metadata": {},
   "outputs": [
    {
     "data": {
      "text/plain": [
       "torch.float32"
      ]
     },
     "execution_count": 139,
     "metadata": {},
     "output_type": "execute_result"
    }
   ],
   "source": [
    "X.dtype\n",
    "#X.size()"
   ]
  },
  {
   "cell_type": "code",
   "execution_count": 140,
   "metadata": {},
   "outputs": [],
   "source": [
    "layer1_t = torch.nn.Linear(4, 25, bias=False)\n",
    "layer2_t = torch.nn.Linear(25, 25, bias=False)\n",
    "layer3_t = torch.nn.Linear(25, 3, bias=False)"
   ]
  },
  {
   "cell_type": "code",
   "execution_count": 141,
   "metadata": {},
   "outputs": [
    {
     "data": {
      "text/plain": [
       "tensor([[-6.7057e-01,  2.8334e-01, -8.1938e-01],\n",
       "        [-6.0415e-01,  2.6061e-01, -7.2672e-01],\n",
       "        [-6.1595e-01,  2.5810e-01, -7.4947e-01],\n",
       "        [-6.4059e-01,  2.3136e-01, -7.0139e-01],\n",
       "        [-6.8575e-01,  2.7764e-01, -8.2478e-01],\n",
       "        [-7.7340e-01,  2.6293e-01, -8.6172e-01],\n",
       "        [-6.6147e-01,  2.3403e-01, -7.5315e-01],\n",
       "        [-6.7666e-01,  2.6550e-01, -7.8326e-01],\n",
       "        [-5.9709e-01,  2.2238e-01, -6.6502e-01],\n",
       "        [-6.3857e-01,  2.6440e-01, -7.3408e-01],\n",
       "        [-7.1272e-01,  2.9965e-01, -8.6513e-01],\n",
       "        [-6.9792e-01,  2.4195e-01, -7.5254e-01],\n",
       "        [-6.0755e-01,  2.6436e-01, -7.2187e-01],\n",
       "        [-5.5864e-01,  2.5445e-01, -7.1082e-01],\n",
       "        [-6.9311e-01,  3.6050e-01, -9.8287e-01],\n",
       "        [-8.0135e-01,  3.1079e-01, -9.8767e-01],\n",
       "        [-6.9918e-01,  2.9854e-01, -9.0954e-01],\n",
       "        [-6.6853e-01,  2.7227e-01, -8.1485e-01],\n",
       "        [-7.5756e-01,  2.9436e-01, -8.7962e-01],\n",
       "        [-7.2856e-01,  2.6822e-01, -8.4723e-01],\n",
       "        [-7.0836e-01,  2.7700e-01, -7.9689e-01],\n",
       "        [-7.1270e-01,  2.5553e-01, -8.2792e-01],\n",
       "        [-6.1694e-01,  2.8394e-01, -8.3506e-01],\n",
       "        [-6.9247e-01,  2.2019e-01, -7.4036e-01],\n",
       "        [-7.5358e-01,  2.1525e-01, -7.1668e-01],\n",
       "        [-6.3991e-01,  2.5014e-01, -7.1220e-01],\n",
       "        [-6.9113e-01,  2.3445e-01, -7.6224e-01],\n",
       "        [-6.8777e-01,  2.8177e-01, -8.1681e-01],\n",
       "        [-6.5539e-01,  2.8905e-01, -8.1399e-01],\n",
       "        [-6.7162e-01,  2.3140e-01, -7.1360e-01],\n",
       "        [-6.5644e-01,  2.3711e-01, -7.0821e-01],\n",
       "        [-6.6716e-01,  2.7265e-01, -8.1174e-01],\n",
       "        [-7.7276e-01,  3.0254e-01, -9.1001e-01],\n",
       "        [-7.6193e-01,  3.2396e-01, -9.6037e-01],\n",
       "        [-6.3653e-01,  2.5333e-01, -7.2954e-01],\n",
       "        [-5.9334e-01,  2.8897e-01, -7.8957e-01],\n",
       "        [-6.4660e-01,  3.2154e-01, -8.6887e-01],\n",
       "        [-6.8914e-01,  2.8139e-01, -8.1992e-01],\n",
       "        [-5.9236e-01,  2.3289e-01, -6.9176e-01],\n",
       "        [-6.7530e-01,  2.7283e-01, -7.9265e-01],\n",
       "        [-6.5133e-01,  2.7385e-01, -8.1742e-01],\n",
       "        [-4.9220e-01,  2.1783e-01, -5.9316e-01],\n",
       "        [-6.2001e-01,  2.3613e-01, -7.2131e-01],\n",
       "        [-7.0088e-01,  2.1392e-01, -7.6796e-01],\n",
       "        [-8.0074e-01,  2.2154e-01, -7.9488e-01],\n",
       "        [-6.0347e-01,  2.4222e-01, -7.1281e-01],\n",
       "        [-7.4916e-01,  2.7039e-01, -8.3981e-01],\n",
       "        [-6.3586e-01,  2.4187e-01, -7.2813e-01],\n",
       "        [-7.1407e-01,  2.9233e-01, -8.5575e-01],\n",
       "        [-6.4428e-01,  2.7279e-01, -7.8044e-01],\n",
       "        [-1.1912e+00, -8.9606e-03, -5.0443e-01],\n",
       "        [-1.1602e+00, -4.6177e-02, -4.6751e-01],\n",
       "        [-1.2138e+00, -4.6777e-02, -4.5183e-01],\n",
       "        [-9.5927e-01, -5.9990e-02, -3.1889e-01],\n",
       "        [-1.1221e+00, -5.4220e-02, -4.0583e-01],\n",
       "        [-1.1185e+00, -8.1764e-02, -3.5177e-01],\n",
       "        [-1.2105e+00, -8.0760e-02, -4.4446e-01],\n",
       "        [-8.5744e-01, -6.7908e-03, -3.7465e-01],\n",
       "        [-1.1387e+00, -2.3132e-02, -4.3905e-01],\n",
       "        [-9.9803e-01, -7.7670e-02, -3.5728e-01],\n",
       "        [-8.3790e-01, -2.3734e-02, -3.0101e-01],\n",
       "        [-1.0837e+00, -5.9328e-02, -4.2690e-01],\n",
       "        [-9.4480e-01,  8.2351e-03, -3.6463e-01],\n",
       "        [-1.1619e+00, -7.9726e-02, -3.7565e-01],\n",
       "        [-9.6664e-01, -7.3642e-03, -4.6476e-01],\n",
       "        [-1.1258e+00, -5.8469e-03, -4.9737e-01],\n",
       "        [-1.1434e+00, -1.0800e-01, -3.6288e-01],\n",
       "        [-1.0352e+00, -7.2311e-03, -4.0780e-01],\n",
       "        [-1.0247e+00, -7.6990e-02, -3.0096e-01],\n",
       "        [-9.7109e-01, -1.8385e-02, -3.7885e-01],\n",
       "        [-1.2165e+00, -1.4272e-01, -3.7113e-01],\n",
       "        [-1.0203e+00, -7.9636e-03, -4.4908e-01],\n",
       "        [-1.1390e+00, -1.0042e-01, -3.0686e-01],\n",
       "        [-1.1522e+00, -5.9195e-02, -3.6993e-01],\n",
       "        [-1.0857e+00, -1.1077e-02, -4.5615e-01],\n",
       "        [-1.1133e+00, -1.4787e-02, -4.7321e-01],\n",
       "        [-1.1572e+00, -3.8975e-02, -4.1460e-01],\n",
       "        [-1.2172e+00, -9.4090e-02, -3.9726e-01],\n",
       "        [-1.1242e+00, -8.0323e-02, -3.8564e-01],\n",
       "        [-9.1138e-01,  3.7233e-02, -4.5536e-01],\n",
       "        [-9.4006e-01, -1.8424e-02, -3.6664e-01],\n",
       "        [-9.2355e-01,  1.5502e-03, -3.8313e-01],\n",
       "        [-9.9399e-01, -1.1577e-02, -4.2264e-01],\n",
       "        [-1.2058e+00, -1.4803e-01, -2.7982e-01],\n",
       "        [-1.1461e+00, -1.2265e-01, -3.4412e-01],\n",
       "        [-1.1912e+00, -8.3314e-02, -4.5500e-01],\n",
       "        [-1.1794e+00, -4.3623e-02, -4.5697e-01],\n",
       "        [-1.0227e+00, -3.7001e-02, -3.4614e-01],\n",
       "        [-1.0732e+00, -5.0252e-02, -4.1977e-01],\n",
       "        [-9.8692e-01, -5.6757e-02, -3.4845e-01],\n",
       "        [-1.0770e+00, -7.9670e-02, -3.1994e-01],\n",
       "        [-1.1572e+00, -6.9209e-02, -4.0238e-01],\n",
       "        [-9.9872e-01, -2.2095e-02, -3.9591e-01],\n",
       "        [-8.4226e-01, -1.0833e-03, -3.6925e-01],\n",
       "        [-1.0503e+00, -6.4002e-02, -3.6348e-01],\n",
       "        [-1.0925e+00, -4.0754e-02, -4.2173e-01],\n",
       "        [-1.0766e+00, -5.3445e-02, -4.0242e-01],\n",
       "        [-1.0884e+00, -2.5725e-02, -4.3738e-01],\n",
       "        [-8.1085e-01,  2.5102e-02, -4.3953e-01],\n",
       "        [-1.0442e+00, -4.6161e-02, -3.9959e-01],\n",
       "        [-1.4333e+00, -2.9614e-01, -2.4826e-01],\n",
       "        [-1.2024e+00, -1.9590e-01, -2.4746e-01],\n",
       "        [-1.3706e+00, -1.8920e-01, -3.0908e-01],\n",
       "        [-1.3181e+00, -1.8948e-01, -2.6869e-01],\n",
       "        [-1.3582e+00, -2.3531e-01, -2.6020e-01],\n",
       "        [-1.4938e+00, -2.1488e-01, -2.7231e-01],\n",
       "        [-1.0797e+00, -1.8950e-01, -2.1424e-01],\n",
       "        [-1.4344e+00, -1.7855e-01, -2.7884e-01],\n",
       "        [-1.2945e+00, -1.8445e-01, -2.2320e-01],\n",
       "        [-1.4812e+00, -2.3427e-01, -3.6509e-01],\n",
       "        [-1.2600e+00, -1.4763e-01, -3.8250e-01],\n",
       "        [-1.2314e+00, -1.6976e-01, -2.7985e-01],\n",
       "        [-1.3005e+00, -1.7557e-01, -3.2875e-01],\n",
       "        [-1.1555e+00, -2.0863e-01, -2.1594e-01],\n",
       "        [-1.2060e+00, -2.4966e-01, -2.3958e-01],\n",
       "        [-1.2923e+00, -2.0597e-01, -3.3561e-01],\n",
       "        [-1.3106e+00, -1.6432e-01, -3.1419e-01],\n",
       "        [-1.6195e+00, -2.1460e-01, -3.8343e-01],\n",
       "        [-1.4887e+00, -2.6287e-01, -1.7765e-01],\n",
       "        [-1.1202e+00, -1.3614e-01, -2.2242e-01],\n",
       "        [-1.3598e+00, -2.0496e-01, -3.3471e-01],\n",
       "        [-1.1798e+00, -2.0221e-01, -2.6285e-01],\n",
       "        [-1.4854e+00, -2.0862e-01, -2.4471e-01],\n",
       "        [-1.1605e+00, -1.3041e-01, -3.2282e-01],\n",
       "        [-1.3804e+00, -1.9584e-01, -3.3979e-01],\n",
       "        [-1.4216e+00, -1.5432e-01, -3.4966e-01],\n",
       "        [-1.1572e+00, -1.2722e-01, -3.4017e-01],\n",
       "        [-1.2047e+00, -1.4021e-01, -3.4839e-01],\n",
       "        [-1.2968e+00, -2.1700e-01, -2.4970e-01],\n",
       "        [-1.3609e+00, -1.1760e-01, -3.5307e-01],\n",
       "        [-1.3801e+00, -1.6611e-01, -2.9282e-01],\n",
       "        [-1.5652e+00, -1.5110e-01, -4.4713e-01],\n",
       "        [-1.2947e+00, -2.2807e-01, -2.4517e-01],\n",
       "        [-1.2176e+00, -1.1337e-01, -3.2728e-01],\n",
       "        [-1.2875e+00, -1.6468e-01, -2.2371e-01],\n",
       "        [-1.3955e+00, -1.8520e-01, -3.3240e-01],\n",
       "        [-1.3750e+00, -2.4784e-01, -3.1539e-01],\n",
       "        [-1.3258e+00, -1.7002e-01, -3.1958e-01],\n",
       "        [-1.1875e+00, -1.3863e-01, -3.5096e-01],\n",
       "        [-1.2944e+00, -1.5772e-01, -3.6486e-01],\n",
       "        [-1.3281e+00, -2.2340e-01, -3.0859e-01],\n",
       "        [-1.2346e+00, -1.5317e-01, -3.9166e-01],\n",
       "        [-1.2024e+00, -1.9590e-01, -2.4746e-01],\n",
       "        [-1.3983e+00, -2.3008e-01, -3.0142e-01],\n",
       "        [-1.3722e+00, -2.4014e-01, -3.2166e-01],\n",
       "        [-1.2421e+00, -1.7833e-01, -3.4616e-01],\n",
       "        [-1.1494e+00, -1.5362e-01, -2.7677e-01],\n",
       "        [-1.2509e+00, -1.5976e-01, -3.4099e-01],\n",
       "        [-1.3412e+00, -2.2629e-01, -3.3445e-01],\n",
       "        [-1.2445e+00, -1.7266e-01, -3.0571e-01]], grad_fn=<MmBackward0>)"
      ]
     },
     "execution_count": 141,
     "metadata": {},
     "output_type": "execute_result"
    }
   ],
   "source": [
    "layer3_t(layer2_t(layer1_t(X)))\n",
    "#print(result.size())"
   ]
  },
  {
   "cell_type": "code",
   "execution_count": 142,
   "metadata": {},
   "outputs": [
    {
     "data": {
      "text/plain": [
       "tensor([[-6.7057e-01,  2.8334e-01, -8.1938e-01],\n",
       "        [-6.0415e-01,  2.6061e-01, -7.2672e-01],\n",
       "        [-6.1595e-01,  2.5810e-01, -7.4947e-01],\n",
       "        [-6.4059e-01,  2.3136e-01, -7.0139e-01],\n",
       "        [-6.8575e-01,  2.7764e-01, -8.2478e-01],\n",
       "        [-7.7340e-01,  2.6293e-01, -8.6172e-01],\n",
       "        [-6.6147e-01,  2.3403e-01, -7.5315e-01],\n",
       "        [-6.7666e-01,  2.6550e-01, -7.8326e-01],\n",
       "        [-5.9709e-01,  2.2238e-01, -6.6502e-01],\n",
       "        [-6.3857e-01,  2.6440e-01, -7.3408e-01],\n",
       "        [-7.1272e-01,  2.9965e-01, -8.6513e-01],\n",
       "        [-6.9792e-01,  2.4195e-01, -7.5254e-01],\n",
       "        [-6.0755e-01,  2.6436e-01, -7.2187e-01],\n",
       "        [-5.5864e-01,  2.5445e-01, -7.1082e-01],\n",
       "        [-6.9311e-01,  3.6050e-01, -9.8287e-01],\n",
       "        [-8.0135e-01,  3.1079e-01, -9.8767e-01],\n",
       "        [-6.9918e-01,  2.9854e-01, -9.0954e-01],\n",
       "        [-6.6853e-01,  2.7227e-01, -8.1485e-01],\n",
       "        [-7.5756e-01,  2.9436e-01, -8.7962e-01],\n",
       "        [-7.2856e-01,  2.6822e-01, -8.4723e-01],\n",
       "        [-7.0836e-01,  2.7700e-01, -7.9689e-01],\n",
       "        [-7.1270e-01,  2.5553e-01, -8.2792e-01],\n",
       "        [-6.1694e-01,  2.8394e-01, -8.3506e-01],\n",
       "        [-6.9247e-01,  2.2019e-01, -7.4036e-01],\n",
       "        [-7.5358e-01,  2.1525e-01, -7.1668e-01],\n",
       "        [-6.3991e-01,  2.5014e-01, -7.1220e-01],\n",
       "        [-6.9113e-01,  2.3445e-01, -7.6224e-01],\n",
       "        [-6.8777e-01,  2.8177e-01, -8.1681e-01],\n",
       "        [-6.5539e-01,  2.8905e-01, -8.1399e-01],\n",
       "        [-6.7162e-01,  2.3140e-01, -7.1360e-01],\n",
       "        [-6.5644e-01,  2.3711e-01, -7.0821e-01],\n",
       "        [-6.6716e-01,  2.7265e-01, -8.1174e-01],\n",
       "        [-7.7276e-01,  3.0254e-01, -9.1001e-01],\n",
       "        [-7.6193e-01,  3.2396e-01, -9.6037e-01],\n",
       "        [-6.3653e-01,  2.5333e-01, -7.2954e-01],\n",
       "        [-5.9334e-01,  2.8897e-01, -7.8957e-01],\n",
       "        [-6.4660e-01,  3.2154e-01, -8.6887e-01],\n",
       "        [-6.8914e-01,  2.8139e-01, -8.1992e-01],\n",
       "        [-5.9236e-01,  2.3289e-01, -6.9176e-01],\n",
       "        [-6.7530e-01,  2.7283e-01, -7.9265e-01],\n",
       "        [-6.5133e-01,  2.7385e-01, -8.1742e-01],\n",
       "        [-4.9220e-01,  2.1783e-01, -5.9316e-01],\n",
       "        [-6.2001e-01,  2.3613e-01, -7.2131e-01],\n",
       "        [-7.0088e-01,  2.1392e-01, -7.6796e-01],\n",
       "        [-8.0074e-01,  2.2154e-01, -7.9488e-01],\n",
       "        [-6.0347e-01,  2.4222e-01, -7.1281e-01],\n",
       "        [-7.4916e-01,  2.7039e-01, -8.3981e-01],\n",
       "        [-6.3586e-01,  2.4187e-01, -7.2813e-01],\n",
       "        [-7.1407e-01,  2.9233e-01, -8.5575e-01],\n",
       "        [-6.4428e-01,  2.7279e-01, -7.8044e-01],\n",
       "        [-1.1912e+00, -8.9606e-03, -5.0443e-01],\n",
       "        [-1.1602e+00, -4.6177e-02, -4.6751e-01],\n",
       "        [-1.2138e+00, -4.6777e-02, -4.5183e-01],\n",
       "        [-9.5927e-01, -5.9990e-02, -3.1889e-01],\n",
       "        [-1.1221e+00, -5.4220e-02, -4.0583e-01],\n",
       "        [-1.1185e+00, -8.1764e-02, -3.5177e-01],\n",
       "        [-1.2105e+00, -8.0760e-02, -4.4446e-01],\n",
       "        [-8.5744e-01, -6.7908e-03, -3.7465e-01],\n",
       "        [-1.1387e+00, -2.3132e-02, -4.3905e-01],\n",
       "        [-9.9803e-01, -7.7670e-02, -3.5728e-01],\n",
       "        [-8.3790e-01, -2.3734e-02, -3.0101e-01],\n",
       "        [-1.0837e+00, -5.9328e-02, -4.2690e-01],\n",
       "        [-9.4480e-01,  8.2351e-03, -3.6463e-01],\n",
       "        [-1.1619e+00, -7.9726e-02, -3.7565e-01],\n",
       "        [-9.6664e-01, -7.3642e-03, -4.6476e-01],\n",
       "        [-1.1258e+00, -5.8469e-03, -4.9737e-01],\n",
       "        [-1.1434e+00, -1.0800e-01, -3.6288e-01],\n",
       "        [-1.0352e+00, -7.2311e-03, -4.0780e-01],\n",
       "        [-1.0247e+00, -7.6990e-02, -3.0096e-01],\n",
       "        [-9.7109e-01, -1.8385e-02, -3.7885e-01],\n",
       "        [-1.2165e+00, -1.4272e-01, -3.7113e-01],\n",
       "        [-1.0203e+00, -7.9636e-03, -4.4908e-01],\n",
       "        [-1.1390e+00, -1.0042e-01, -3.0686e-01],\n",
       "        [-1.1522e+00, -5.9195e-02, -3.6993e-01],\n",
       "        [-1.0857e+00, -1.1077e-02, -4.5615e-01],\n",
       "        [-1.1133e+00, -1.4787e-02, -4.7321e-01],\n",
       "        [-1.1572e+00, -3.8975e-02, -4.1460e-01],\n",
       "        [-1.2172e+00, -9.4090e-02, -3.9726e-01],\n",
       "        [-1.1242e+00, -8.0323e-02, -3.8564e-01],\n",
       "        [-9.1138e-01,  3.7233e-02, -4.5536e-01],\n",
       "        [-9.4006e-01, -1.8424e-02, -3.6664e-01],\n",
       "        [-9.2355e-01,  1.5502e-03, -3.8313e-01],\n",
       "        [-9.9399e-01, -1.1577e-02, -4.2264e-01],\n",
       "        [-1.2058e+00, -1.4803e-01, -2.7982e-01],\n",
       "        [-1.1461e+00, -1.2265e-01, -3.4412e-01],\n",
       "        [-1.1912e+00, -8.3314e-02, -4.5500e-01],\n",
       "        [-1.1794e+00, -4.3623e-02, -4.5697e-01],\n",
       "        [-1.0227e+00, -3.7001e-02, -3.4614e-01],\n",
       "        [-1.0732e+00, -5.0252e-02, -4.1977e-01],\n",
       "        [-9.8692e-01, -5.6757e-02, -3.4845e-01],\n",
       "        [-1.0770e+00, -7.9670e-02, -3.1994e-01],\n",
       "        [-1.1572e+00, -6.9209e-02, -4.0238e-01],\n",
       "        [-9.9872e-01, -2.2095e-02, -3.9591e-01],\n",
       "        [-8.4226e-01, -1.0833e-03, -3.6925e-01],\n",
       "        [-1.0503e+00, -6.4002e-02, -3.6348e-01],\n",
       "        [-1.0925e+00, -4.0754e-02, -4.2173e-01],\n",
       "        [-1.0766e+00, -5.3445e-02, -4.0242e-01],\n",
       "        [-1.0884e+00, -2.5725e-02, -4.3738e-01],\n",
       "        [-8.1085e-01,  2.5102e-02, -4.3953e-01],\n",
       "        [-1.0442e+00, -4.6161e-02, -3.9959e-01],\n",
       "        [-1.4333e+00, -2.9614e-01, -2.4826e-01],\n",
       "        [-1.2024e+00, -1.9590e-01, -2.4746e-01],\n",
       "        [-1.3706e+00, -1.8920e-01, -3.0908e-01],\n",
       "        [-1.3181e+00, -1.8948e-01, -2.6869e-01],\n",
       "        [-1.3582e+00, -2.3531e-01, -2.6020e-01],\n",
       "        [-1.4938e+00, -2.1488e-01, -2.7231e-01],\n",
       "        [-1.0797e+00, -1.8950e-01, -2.1424e-01],\n",
       "        [-1.4344e+00, -1.7855e-01, -2.7884e-01],\n",
       "        [-1.2945e+00, -1.8445e-01, -2.2320e-01],\n",
       "        [-1.4812e+00, -2.3427e-01, -3.6509e-01],\n",
       "        [-1.2600e+00, -1.4763e-01, -3.8250e-01],\n",
       "        [-1.2314e+00, -1.6976e-01, -2.7985e-01],\n",
       "        [-1.3005e+00, -1.7557e-01, -3.2875e-01],\n",
       "        [-1.1555e+00, -2.0863e-01, -2.1594e-01],\n",
       "        [-1.2060e+00, -2.4966e-01, -2.3958e-01],\n",
       "        [-1.2923e+00, -2.0597e-01, -3.3561e-01],\n",
       "        [-1.3106e+00, -1.6432e-01, -3.1419e-01],\n",
       "        [-1.6195e+00, -2.1460e-01, -3.8343e-01],\n",
       "        [-1.4887e+00, -2.6287e-01, -1.7765e-01],\n",
       "        [-1.1202e+00, -1.3614e-01, -2.2242e-01],\n",
       "        [-1.3598e+00, -2.0496e-01, -3.3471e-01],\n",
       "        [-1.1798e+00, -2.0221e-01, -2.6285e-01],\n",
       "        [-1.4854e+00, -2.0862e-01, -2.4471e-01],\n",
       "        [-1.1605e+00, -1.3041e-01, -3.2282e-01],\n",
       "        [-1.3804e+00, -1.9584e-01, -3.3979e-01],\n",
       "        [-1.4216e+00, -1.5432e-01, -3.4966e-01],\n",
       "        [-1.1572e+00, -1.2722e-01, -3.4017e-01],\n",
       "        [-1.2047e+00, -1.4021e-01, -3.4839e-01],\n",
       "        [-1.2968e+00, -2.1700e-01, -2.4970e-01],\n",
       "        [-1.3609e+00, -1.1760e-01, -3.5307e-01],\n",
       "        [-1.3801e+00, -1.6611e-01, -2.9282e-01],\n",
       "        [-1.5652e+00, -1.5110e-01, -4.4713e-01],\n",
       "        [-1.2947e+00, -2.2807e-01, -2.4517e-01],\n",
       "        [-1.2176e+00, -1.1337e-01, -3.2728e-01],\n",
       "        [-1.2875e+00, -1.6468e-01, -2.2371e-01],\n",
       "        [-1.3955e+00, -1.8520e-01, -3.3240e-01],\n",
       "        [-1.3750e+00, -2.4784e-01, -3.1539e-01],\n",
       "        [-1.3258e+00, -1.7002e-01, -3.1958e-01],\n",
       "        [-1.1875e+00, -1.3863e-01, -3.5096e-01],\n",
       "        [-1.2944e+00, -1.5772e-01, -3.6486e-01],\n",
       "        [-1.3281e+00, -2.2340e-01, -3.0859e-01],\n",
       "        [-1.2346e+00, -1.5317e-01, -3.9166e-01],\n",
       "        [-1.2024e+00, -1.9590e-01, -2.4746e-01],\n",
       "        [-1.3983e+00, -2.3008e-01, -3.0142e-01],\n",
       "        [-1.3722e+00, -2.4014e-01, -3.2166e-01],\n",
       "        [-1.2421e+00, -1.7833e-01, -3.4616e-01],\n",
       "        [-1.1494e+00, -1.5362e-01, -2.7677e-01],\n",
       "        [-1.2509e+00, -1.5976e-01, -3.4099e-01],\n",
       "        [-1.3412e+00, -2.2629e-01, -3.3445e-01],\n",
       "        [-1.2445e+00, -1.7266e-01, -3.0571e-01]], grad_fn=<MmBackward0>)"
      ]
     },
     "execution_count": 142,
     "metadata": {},
     "output_type": "execute_result"
    }
   ],
   "source": [
    "X @ layer1_t.weight.T @ layer2_t.weight.T @ layer3_t.weight.T"
   ]
  },
  {
   "cell_type": "markdown",
   "metadata": {},
   "source": [
    "Of course, the network is not yet trained.\n",
    "\n",
    "More on datasets:  https://github.com/pnugues/ilppp/blob/master/programs/appB/python/tourofpython.ipynb\n"
   ]
  }
 ],
 "metadata": {
  "kernelspec": {
   "display_name": "Python 3",
   "language": "python",
   "name": "python3"
  },
  "language_info": {
   "codemirror_mode": {
    "name": "ipython",
    "version": 3
   },
   "file_extension": ".py",
   "mimetype": "text/x-python",
   "name": "python",
   "nbconvert_exporter": "python",
   "pygments_lexer": "ipython3",
   "version": "3.12.7"
  },
  "orig_nbformat": 4
 },
 "nbformat": 4,
 "nbformat_minor": 2
}
